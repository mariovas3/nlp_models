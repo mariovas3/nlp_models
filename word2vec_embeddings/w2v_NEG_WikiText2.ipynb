{
 "cells": [
  {
   "cell_type": "markdown",
   "metadata": {
    "id": "p8BoV7TPZIPL"
   },
   "source": [
    "## Demo notebook on how to train word2vec embeddings following the negative sampling training procedure proposed by Mikolov et. al.;\n",
    "* The word embeddings are trained on the WikiText2 training dataset;\n",
    "* This is a notebook that was obtained by traning on Google Colab (GPU runtime hence the `.to(device)` statements)."
   ]
  },
  {
   "cell_type": "code",
   "execution_count": 1,
   "metadata": {
    "colab": {
     "base_uri": "https://localhost:8080/"
    },
    "id": "ZjLyOhjDGxkO",
    "outputId": "9c7ec972-31fe-4454-85bc-41618487f060"
   },
   "outputs": [
    {
     "name": "stdout",
     "output_type": "stream",
     "text": [
      "Requirement already satisfied: torch==1.9 in /usr/local/lib/python3.7/dist-packages (1.9.0+cu102)\n",
      "Requirement already satisfied: typing-extensions in /usr/local/lib/python3.7/dist-packages (from torch==1.9) (3.7.4.3)\n",
      "Requirement already satisfied: torchtext==0.10 in /usr/local/lib/python3.7/dist-packages (0.10.0)\n",
      "Requirement already satisfied: torch==1.9.0 in /usr/local/lib/python3.7/dist-packages (from torchtext==0.10) (1.9.0+cu102)\n",
      "Requirement already satisfied: numpy in /usr/local/lib/python3.7/dist-packages (from torchtext==0.10) (1.19.5)\n",
      "Requirement already satisfied: requests in /usr/local/lib/python3.7/dist-packages (from torchtext==0.10) (2.23.0)\n",
      "Requirement already satisfied: tqdm in /usr/local/lib/python3.7/dist-packages (from torchtext==0.10) (4.62.0)\n",
      "Requirement already satisfied: typing-extensions in /usr/local/lib/python3.7/dist-packages (from torch==1.9.0->torchtext==0.10) (3.7.4.3)\n",
      "Requirement already satisfied: urllib3!=1.25.0,!=1.25.1,<1.26,>=1.21.1 in /usr/local/lib/python3.7/dist-packages (from requests->torchtext==0.10) (1.24.3)\n",
      "Requirement already satisfied: certifi>=2017.4.17 in /usr/local/lib/python3.7/dist-packages (from requests->torchtext==0.10) (2021.5.30)\n",
      "Requirement already satisfied: chardet<4,>=3.0.2 in /usr/local/lib/python3.7/dist-packages (from requests->torchtext==0.10) (3.0.4)\n",
      "Requirement already satisfied: idna<3,>=2.5 in /usr/local/lib/python3.7/dist-packages (from requests->torchtext==0.10) (2.10)\n"
     ]
    }
   ],
   "source": [
    "!pip install torch==1.9\n",
    "!pip install torchtext==0.10"
   ]
  },
  {
   "cell_type": "code",
   "execution_count": 2,
   "metadata": {
    "id": "-iRyqCklZIPR"
   },
   "outputs": [],
   "source": [
    "import numpy as np\n",
    "import torch\n",
    "import sys\n",
    "sys.path.append(\"../preprocessing\")\n",
    "from torch import nn\n",
    "import random\n",
    "import get_data as gd\n",
    "import word2vec_NEG as w2v_neg\n",
    "import pickle\n",
    "torch.manual_seed(42)\n",
    "np.random.seed(42)\n",
    "random.seed(42)"
   ]
  },
  {
   "cell_type": "markdown",
   "metadata": {
    "id": "26KsMO-zZIPX"
   },
   "source": [
    "### Get `torch.utils.data.DataLoader` and `vocab.Vocab` objects;"
   ]
  },
  {
   "cell_type": "code",
   "execution_count": 3,
   "metadata": {
    "id": "3M9WqEdOZIPY"
   },
   "outputs": [],
   "source": [
    "vocab_min_freq, num_negatives = 5, 15\n",
    "max_window_size, shuffle = 4, True\n",
    "loader, vocab = gd.get_wikitext2_data_neg(\"../data\", vocab_min_freq=vocab_min_freq,\n",
    "                                          num_negatives=num_negatives, \n",
    "                                          max_window_size=max_window_size,\n",
    "                                          shuffle=shuffle)"
   ]
  },
  {
   "cell_type": "code",
   "execution_count": 4,
   "metadata": {
    "colab": {
     "base_uri": "https://localhost:8080/"
    },
    "id": "4k-5te1oZIPb",
    "outputId": "7a0feebb-b3b4-46d0-f31b-c987d471fcad"
   },
   "outputs": [
    {
     "name": "stdout",
     "output_type": "stream",
     "text": [
      "size of WikiText2 vocab is: 17027\n"
     ]
    }
   ],
   "source": [
    "print(f\"size of WikiText2 vocab is: {len(vocab)}\")"
   ]
  },
  {
   "cell_type": "markdown",
   "metadata": {
    "id": "g_IVYA0SZIPe"
   },
   "source": [
    "### Set up the model;"
   ]
  },
  {
   "cell_type": "code",
   "execution_count": 5,
   "metadata": {
    "id": "ImrrJXAwXOrI"
   },
   "outputs": [],
   "source": [
    "def log_sigmoid(x):\n",
    "    return torch.log(1 / (1 + torch.exp(- x)))"
   ]
  },
  {
   "cell_type": "code",
   "execution_count": 6,
   "metadata": {
    "id": "1x0KvGS7ZIPh"
   },
   "outputs": [],
   "source": [
    "class EmbeddingsModelNEG(nn.Module):\n",
    "    def __init__(self, vocab_size, embed_size, **kwargs):\n",
    "        super(EmbeddingsModelNEG, self).__init__(**kwargs)\n",
    "        self.embed_center = nn.Embedding(vocab_size, embed_size)\n",
    "        self.embed_context = nn.Embedding(vocab_size, embed_size)\n",
    "    \n",
    "    def forward(self, centers, contexts_and_negatives, coefficients):\n",
    "        V = self.embed_center(centers)\n",
    "        U = self.embed_context(contexts_and_negatives)\n",
    "        return torch.bmm(V, U.permute(0, 2, 1)) * coefficients.unsqueeze(1)"
   ]
  },
  {
   "cell_type": "markdown",
   "metadata": {
    "id": "nvqyLnmuS0Y5"
   },
   "source": [
    "### Instantiate a model object and initialise weights from Xavier Normal;"
   ]
  },
  {
   "cell_type": "code",
   "execution_count": 7,
   "metadata": {
    "id": "8vDyGx0J46zu"
   },
   "outputs": [],
   "source": [
    "def init_weights(m):\n",
    "  if type(m) == nn.Embedding:\n",
    "    nn.init.xavier_normal_(m.weight.data)"
   ]
  },
  {
   "cell_type": "code",
   "execution_count": 8,
   "metadata": {
    "id": "ux6ZASZQZIPk"
   },
   "outputs": [],
   "source": [
    "vocab_size, embed_size = len(vocab), 100\n",
    "model = EmbeddingsModelNEG(vocab_size, embed_size)"
   ]
  },
  {
   "cell_type": "code",
   "execution_count": 9,
   "metadata": {
    "colab": {
     "base_uri": "https://localhost:8080/"
    },
    "id": "OXZDF0Qi5lGZ",
    "outputId": "b8836c51-b736-4e7a-cfbc-c60f0b971901"
   },
   "outputs": [
    {
     "data": {
      "text/plain": [
       "EmbeddingsModelNEG(\n",
       "  (embed_center): Embedding(17027, 100)\n",
       "  (embed_context): Embedding(17027, 100)\n",
       ")"
      ]
     },
     "execution_count": 9,
     "metadata": {},
     "output_type": "execute_result"
    }
   ],
   "source": [
    "model.apply(init_weights)"
   ]
  },
  {
   "cell_type": "markdown",
   "metadata": {
    "id": "fcKriWebTEN_"
   },
   "source": [
    "### Get the model on the device;"
   ]
  },
  {
   "cell_type": "code",
   "execution_count": 10,
   "metadata": {
    "colab": {
     "base_uri": "https://localhost:8080/"
    },
    "id": "9PRtlqs0MHy0",
    "outputId": "9a45849c-4cfd-48b1-f278-0014097dacdc"
   },
   "outputs": [
    {
     "name": "stdout",
     "output_type": "stream",
     "text": [
      "I will be using cuda\n"
     ]
    }
   ],
   "source": [
    "device = torch.device(\"cuda\" if torch.cuda.is_available() else \"cpu\")\n",
    "print(f\"I will be using {device}\")"
   ]
  },
  {
   "cell_type": "code",
   "execution_count": 11,
   "metadata": {
    "colab": {
     "base_uri": "https://localhost:8080/"
    },
    "id": "mqCQ_5A7ZIPn",
    "outputId": "1a51d29f-4cd4-49cf-e3c1-e271f07df150"
   },
   "outputs": [
    {
     "data": {
      "text/plain": [
       "EmbeddingsModelNEG(\n",
       "  (embed_center): Embedding(17027, 100)\n",
       "  (embed_context): Embedding(17027, 100)\n",
       ")"
      ]
     },
     "execution_count": 11,
     "metadata": {},
     "output_type": "execute_result"
    }
   ],
   "source": [
    "model.to(device)"
   ]
  },
  {
   "cell_type": "markdown",
   "metadata": {
    "id": "HnsrPgswTI5e"
   },
   "source": [
    "### Setup the loss;"
   ]
  },
  {
   "cell_type": "code",
   "execution_count": 12,
   "metadata": {
    "id": "p1y83txTZIPn"
   },
   "outputs": [],
   "source": [
    "class EmbeddingLossNEG(nn.Module):\n",
    "    def __init__(self):\n",
    "        super(EmbeddingLossNEG, self).__init__()\n",
    "    \n",
    "    def forward(self, prods, mask_pads):\n",
    "        return - (log_sigmoid(prods.squeeze(1)) * mask_pads).sum()"
   ]
  },
  {
   "cell_type": "code",
   "execution_count": 13,
   "metadata": {
    "id": "vabs-oHvZIPq"
   },
   "outputs": [],
   "source": [
    "loss_fn = EmbeddingLossNEG()"
   ]
  },
  {
   "cell_type": "markdown",
   "metadata": {
    "id": "vnyH3YiOZIPq"
   },
   "source": [
    "### Optimise with Adam and use a learning rate schedule every 25 epochs;"
   ]
  },
  {
   "cell_type": "code",
   "execution_count": 14,
   "metadata": {
    "id": "jCw-H0lsZIPt"
   },
   "outputs": [],
   "source": [
    "optim = torch.optim.Adam(model.parameters(), lr=1e-3)\n",
    "scheduler = torch.optim.lr_scheduler.StepLR(optim, step_size=25, gamma=0.5)"
   ]
  },
  {
   "cell_type": "markdown",
   "metadata": {
    "id": "7JIJT2sCZIPt"
   },
   "source": [
    "### Define train loop for 1 epoch;"
   ]
  },
  {
   "cell_type": "code",
   "execution_count": 15,
   "metadata": {
    "id": "C4_tDtGzZIPv"
   },
   "outputs": [],
   "source": [
    "def train_loop(model, loss_fn, optim, loader, device):\n",
    "    model.train()\n",
    "    fifth = max(1, len(loader) // 5)\n",
    "    batches = len(loader)\n",
    "    tot_loss = 0.\n",
    "    for batch, (centers, contexts_and_negatives, coefficients, \n",
    "                mask_pads) in enumerate(loader, start=1):\n",
    "        prods = model(centers.to(device), contexts_and_negatives.to(device), \n",
    "                      coefficients.to(device))\n",
    "        loss = loss_fn(prods,  mask_pads.to(device))\n",
    "        if batch % fifth == 0:\n",
    "            print(f\"train_loss: {loss.item():.5f}\\tprogress: {batch}/{batches}\")\n",
    "        tot_loss += loss.item()\n",
    "        optim.zero_grad()\n",
    "        loss.backward()\n",
    "        optim.step()\n",
    "    print(f\"total train loss: {tot_loss:.5f}\")"
   ]
  },
  {
   "cell_type": "markdown",
   "metadata": {
    "id": "UxNHwJIzZIPw"
   },
   "source": [
    "### Start training;"
   ]
  },
  {
   "cell_type": "code",
   "execution_count": 16,
   "metadata": {
    "colab": {
     "base_uri": "https://localhost:8080/"
    },
    "id": "txS8WGBpZIPy",
    "outputId": "d33a9640-605b-4513-e777-3446d8358318"
   },
   "outputs": [
    {
     "name": "stdout",
     "output_type": "stream",
     "text": [
      "Epoch 1:\n",
      "-------------------------\n",
      "train_loss: 18967.20898\tprogress: 148/742\n",
      "train_loss: 12206.65918\tprogress: 296/742\n",
      "train_loss: 9638.41309\tprogress: 444/742\n",
      "train_loss: 8689.46094\tprogress: 592/742\n",
      "train_loss: 8070.04053\tprogress: 740/742\n",
      "total train loss: 9960995.42358\n",
      "last lr: 0.001\n",
      "\n",
      "\n",
      "Epoch 2:\n",
      "-------------------------\n",
      "train_loss: 8105.89453\tprogress: 148/742\n",
      "train_loss: 7931.19873\tprogress: 296/742\n",
      "train_loss: 7789.23828\tprogress: 444/742\n",
      "train_loss: 8040.39551\tprogress: 592/742\n",
      "train_loss: 8052.84473\tprogress: 740/742\n",
      "total train loss: 5933464.21240\n",
      "last lr: 0.001\n",
      "\n",
      "\n",
      "Epoch 3:\n",
      "-------------------------\n",
      "train_loss: 8106.81006\tprogress: 148/742\n",
      "train_loss: 8340.44141\tprogress: 296/742\n",
      "train_loss: 7983.03223\tprogress: 444/742\n",
      "train_loss: 7953.59912\tprogress: 592/742\n",
      "train_loss: 7777.04980\tprogress: 740/742\n",
      "total train loss: 5879412.30713\n",
      "last lr: 0.001\n",
      "\n",
      "\n",
      "Epoch 4:\n",
      "-------------------------\n",
      "train_loss: 8137.30518\tprogress: 148/742\n",
      "train_loss: 8166.66797\tprogress: 296/742\n",
      "train_loss: 7791.46924\tprogress: 444/742\n",
      "train_loss: 8110.87012\tprogress: 592/742\n",
      "train_loss: 7873.97363\tprogress: 740/742\n",
      "total train loss: 5873363.31689\n",
      "last lr: 0.001\n",
      "\n",
      "\n",
      "Epoch 5:\n",
      "-------------------------\n",
      "train_loss: 8191.96777\tprogress: 148/742\n",
      "train_loss: 7901.97021\tprogress: 296/742\n",
      "train_loss: 7944.27051\tprogress: 444/742\n",
      "train_loss: 7701.76758\tprogress: 592/742\n",
      "train_loss: 7934.02734\tprogress: 740/742\n",
      "total train loss: 5863505.36108\n",
      "last lr: 0.001\n",
      "\n",
      "\n",
      "Epoch 6:\n",
      "-------------------------\n",
      "train_loss: 8155.83594\tprogress: 148/742\n",
      "train_loss: 7735.22852\tprogress: 296/742\n",
      "train_loss: 7867.70264\tprogress: 444/742\n",
      "train_loss: 7973.43262\tprogress: 592/742\n",
      "train_loss: 7811.66943\tprogress: 740/742\n",
      "total train loss: 5839509.86646\n",
      "last lr: 0.001\n",
      "\n",
      "\n",
      "Epoch 7:\n",
      "-------------------------\n",
      "train_loss: 7771.55225\tprogress: 148/742\n",
      "train_loss: 7597.80469\tprogress: 296/742\n",
      "train_loss: 7598.43701\tprogress: 444/742\n",
      "train_loss: 7532.17627\tprogress: 592/742\n",
      "train_loss: 8026.26465\tprogress: 740/742\n",
      "total train loss: 5768697.68872\n",
      "last lr: 0.001\n",
      "\n",
      "\n",
      "Epoch 8:\n",
      "-------------------------\n",
      "train_loss: 7690.50684\tprogress: 148/742\n",
      "train_loss: 7302.23242\tprogress: 296/742\n",
      "train_loss: 7540.64307\tprogress: 444/742\n",
      "train_loss: 7334.50293\tprogress: 592/742\n",
      "train_loss: 7591.14844\tprogress: 740/742\n",
      "total train loss: 5616992.30127\n",
      "last lr: 0.001\n",
      "\n",
      "\n",
      "Epoch 9:\n",
      "-------------------------\n",
      "train_loss: 7532.65723\tprogress: 148/742\n",
      "train_loss: 7370.37891\tprogress: 296/742\n",
      "train_loss: 7179.65674\tprogress: 444/742\n",
      "train_loss: 7262.99805\tprogress: 592/742\n",
      "train_loss: 7107.90625\tprogress: 740/742\n",
      "total train loss: 5403712.10522\n",
      "last lr: 0.001\n",
      "\n",
      "\n",
      "Epoch 10:\n",
      "-------------------------\n",
      "train_loss: 7246.04541\tprogress: 148/742\n",
      "train_loss: 6877.72852\tprogress: 296/742\n",
      "train_loss: 7079.80859\tprogress: 444/742\n",
      "train_loss: 6887.79980\tprogress: 592/742\n",
      "train_loss: 6951.13721\tprogress: 740/742\n",
      "total train loss: 5171416.94946\n",
      "last lr: 0.001\n",
      "\n",
      "\n",
      "Epoch 11:\n",
      "-------------------------\n",
      "train_loss: 6579.72119\tprogress: 148/742\n",
      "train_loss: 7153.04541\tprogress: 296/742\n",
      "train_loss: 6882.34863\tprogress: 444/742\n",
      "train_loss: 6671.59717\tprogress: 592/742\n",
      "train_loss: 6457.84619\tprogress: 740/742\n",
      "total train loss: 4941273.93066\n",
      "last lr: 0.001\n",
      "\n",
      "\n",
      "Epoch 12:\n",
      "-------------------------\n",
      "train_loss: 6586.20898\tprogress: 148/742\n",
      "train_loss: 6348.03711\tprogress: 296/742\n",
      "train_loss: 6408.91309\tprogress: 444/742\n",
      "train_loss: 6556.66113\tprogress: 592/742\n",
      "train_loss: 6517.63770\tprogress: 740/742\n",
      "total train loss: 4723305.25781\n",
      "last lr: 0.001\n",
      "\n",
      "\n",
      "Epoch 13:\n",
      "-------------------------\n",
      "train_loss: 6003.66455\tprogress: 148/742\n",
      "train_loss: 6209.77100\tprogress: 296/742\n",
      "train_loss: 6265.64160\tprogress: 444/742\n",
      "train_loss: 6040.43945\tprogress: 592/742\n",
      "train_loss: 6045.20850\tprogress: 740/742\n",
      "total train loss: 4520829.27979\n",
      "last lr: 0.001\n",
      "\n",
      "\n",
      "Epoch 14:\n",
      "-------------------------\n",
      "train_loss: 5718.96240\tprogress: 148/742\n",
      "train_loss: 6201.93115\tprogress: 296/742\n",
      "train_loss: 5752.80371\tprogress: 444/742\n",
      "train_loss: 5795.17627\tprogress: 592/742\n",
      "train_loss: 5903.93506\tprogress: 740/742\n",
      "total train loss: 4335382.86475\n",
      "last lr: 0.001\n",
      "\n",
      "\n",
      "Epoch 15:\n",
      "-------------------------\n",
      "train_loss: 5739.44482\tprogress: 148/742\n",
      "train_loss: 5739.85205\tprogress: 296/742\n",
      "train_loss: 5744.82129\tprogress: 444/742\n",
      "train_loss: 5643.99414\tprogress: 592/742\n",
      "train_loss: 5606.03906\tprogress: 740/742\n",
      "total train loss: 4166576.11963\n",
      "last lr: 0.001\n",
      "\n",
      "\n",
      "Epoch 16:\n",
      "-------------------------\n",
      "train_loss: 5650.73633\tprogress: 148/742\n",
      "train_loss: 5201.09082\tprogress: 296/742\n",
      "train_loss: 5530.03906\tprogress: 444/742\n",
      "train_loss: 5579.49561\tprogress: 592/742\n",
      "train_loss: 5411.32959\tprogress: 740/742\n",
      "total train loss: 4013753.89722\n",
      "last lr: 0.001\n",
      "\n",
      "\n",
      "Epoch 17:\n",
      "-------------------------\n",
      "train_loss: 5212.56982\tprogress: 148/742\n",
      "train_loss: 5139.47949\tprogress: 296/742\n",
      "train_loss: 5289.91992\tprogress: 444/742\n",
      "train_loss: 5169.40430\tprogress: 592/742\n",
      "train_loss: 5333.13330\tprogress: 740/742\n",
      "total train loss: 3876020.28711\n",
      "last lr: 0.001\n",
      "\n",
      "\n",
      "Epoch 18:\n",
      "-------------------------\n",
      "train_loss: 5013.73682\tprogress: 148/742\n",
      "train_loss: 5019.55127\tprogress: 296/742\n",
      "train_loss: 5126.62158\tprogress: 444/742\n",
      "train_loss: 5113.30859\tprogress: 592/742\n",
      "train_loss: 5236.37793\tprogress: 740/742\n",
      "total train loss: 3752112.82617\n",
      "last lr: 0.001\n",
      "\n",
      "\n",
      "Epoch 19:\n",
      "-------------------------\n",
      "train_loss: 4979.60303\tprogress: 148/742\n",
      "train_loss: 4885.96729\tprogress: 296/742\n",
      "train_loss: 4944.24805\tprogress: 444/742\n",
      "train_loss: 4978.36328\tprogress: 592/742\n",
      "train_loss: 4670.99219\tprogress: 740/742\n",
      "total train loss: 3640591.51709\n",
      "last lr: 0.001\n",
      "\n",
      "\n",
      "Epoch 20:\n",
      "-------------------------\n",
      "train_loss: 4806.79883\tprogress: 148/742\n",
      "train_loss: 4751.92090\tprogress: 296/742\n",
      "train_loss: 4946.64990\tprogress: 444/742\n",
      "train_loss: 4764.35645\tprogress: 592/742\n",
      "train_loss: 4697.08838\tprogress: 740/742\n",
      "total train loss: 3540165.10864\n",
      "last lr: 0.001\n",
      "\n",
      "\n",
      "Epoch 21:\n",
      "-------------------------\n",
      "train_loss: 4532.58936\tprogress: 148/742\n",
      "train_loss: 4607.57568\tprogress: 296/742\n",
      "train_loss: 4645.74072\tprogress: 444/742\n",
      "train_loss: 4678.23828\tprogress: 592/742\n",
      "train_loss: 4480.64746\tprogress: 740/742\n",
      "total train loss: 3449621.34216\n",
      "last lr: 0.001\n",
      "\n",
      "\n",
      "Epoch 22:\n",
      "-------------------------\n",
      "train_loss: 4524.31152\tprogress: 148/742\n",
      "train_loss: 4618.35986\tprogress: 296/742\n",
      "train_loss: 4661.93750\tprogress: 444/742\n",
      "train_loss: 4642.71680\tprogress: 592/742\n",
      "train_loss: 4528.78027\tprogress: 740/742\n",
      "total train loss: 3367681.44592\n",
      "last lr: 0.001\n",
      "\n",
      "\n",
      "Epoch 23:\n",
      "-------------------------\n",
      "train_loss: 4478.95605\tprogress: 148/742\n",
      "train_loss: 4442.91846\tprogress: 296/742\n",
      "train_loss: 4491.02539\tprogress: 444/742\n",
      "train_loss: 4546.34229\tprogress: 592/742\n",
      "train_loss: 4437.52783\tprogress: 740/742\n",
      "total train loss: 3293308.35144\n",
      "last lr: 0.001\n",
      "\n",
      "\n",
      "Epoch 24:\n",
      "-------------------------\n",
      "train_loss: 4375.02344\tprogress: 148/742\n",
      "train_loss: 4373.92334\tprogress: 296/742\n",
      "train_loss: 4617.99268\tprogress: 444/742\n",
      "train_loss: 4444.53271\tprogress: 592/742\n",
      "train_loss: 4231.46582\tprogress: 740/742\n",
      "total train loss: 3225663.20630\n",
      "last lr: 0.001\n",
      "\n",
      "\n",
      "Epoch 25:\n",
      "-------------------------\n",
      "train_loss: 4159.06104\tprogress: 148/742\n",
      "train_loss: 4131.22119\tprogress: 296/742\n",
      "train_loss: 4186.12402\tprogress: 444/742\n",
      "train_loss: 4436.00635\tprogress: 592/742\n",
      "train_loss: 4324.12842\tprogress: 740/742\n",
      "total train loss: 3163592.69604\n",
      "last lr: 0.001\n",
      "\n",
      "\n",
      "Epoch 26:\n",
      "-------------------------\n",
      "train_loss: 4296.85156\tprogress: 148/742\n",
      "train_loss: 4136.79102\tprogress: 296/742\n",
      "train_loss: 4296.23584\tprogress: 444/742\n",
      "train_loss: 4086.63477\tprogress: 592/742\n",
      "train_loss: 4288.08252\tprogress: 740/742\n",
      "total train loss: 3068017.79053\n",
      "last lr: 0.0005\n",
      "\n",
      "\n",
      "Epoch 27:\n",
      "-------------------------\n",
      "train_loss: 4243.32227\tprogress: 148/742\n",
      "train_loss: 4218.01904\tprogress: 296/742\n",
      "train_loss: 3957.79248\tprogress: 444/742\n",
      "train_loss: 4247.83008\tprogress: 592/742\n",
      "train_loss: 4148.94824\tprogress: 740/742\n",
      "total train loss: 3039823.99109\n",
      "last lr: 0.0005\n",
      "\n",
      "\n",
      "Epoch 28:\n",
      "-------------------------\n",
      "train_loss: 3976.12451\tprogress: 148/742\n",
      "train_loss: 4114.24805\tprogress: 296/742\n",
      "train_loss: 3982.34814\tprogress: 444/742\n",
      "train_loss: 4121.67578\tprogress: 592/742\n",
      "train_loss: 4137.42139\tprogress: 740/742\n",
      "total train loss: 3013375.65845\n",
      "last lr: 0.0005\n",
      "\n",
      "\n",
      "Epoch 29:\n",
      "-------------------------\n",
      "train_loss: 4022.04590\tprogress: 148/742\n",
      "train_loss: 3991.18018\tprogress: 296/742\n",
      "train_loss: 4216.03467\tprogress: 444/742\n",
      "train_loss: 3797.35791\tprogress: 592/742\n",
      "train_loss: 3937.80127\tprogress: 740/742\n",
      "total train loss: 2987742.60095\n",
      "last lr: 0.0005\n",
      "\n",
      "\n",
      "Epoch 30:\n",
      "-------------------------\n",
      "train_loss: 4088.04932\tprogress: 148/742\n",
      "train_loss: 3740.21191\tprogress: 296/742\n",
      "train_loss: 4032.18115\tprogress: 444/742\n",
      "train_loss: 4032.62329\tprogress: 592/742\n",
      "train_loss: 4189.25635\tprogress: 740/742\n",
      "total train loss: 2963083.16357\n",
      "last lr: 0.0005\n",
      "\n",
      "\n",
      "Epoch 31:\n",
      "-------------------------\n",
      "train_loss: 3805.59766\tprogress: 148/742\n",
      "train_loss: 4000.14209\tprogress: 296/742\n",
      "train_loss: 4025.09155\tprogress: 444/742\n",
      "train_loss: 4101.08887\tprogress: 592/742\n",
      "train_loss: 4129.76172\tprogress: 740/742\n",
      "total train loss: 2939253.84229\n",
      "last lr: 0.0005\n",
      "\n",
      "\n",
      "Epoch 32:\n",
      "-------------------------\n",
      "train_loss: 3858.95703\tprogress: 148/742\n",
      "train_loss: 3726.47778\tprogress: 296/742\n",
      "train_loss: 4226.01318\tprogress: 444/742\n",
      "train_loss: 3798.39404\tprogress: 592/742\n",
      "train_loss: 3992.34277\tprogress: 740/742\n",
      "total train loss: 2916381.28381\n",
      "last lr: 0.0005\n",
      "\n",
      "\n",
      "Epoch 33:\n",
      "-------------------------\n",
      "train_loss: 3987.45068\tprogress: 148/742\n",
      "train_loss: 3702.53296\tprogress: 296/742\n",
      "train_loss: 4024.94604\tprogress: 444/742\n",
      "train_loss: 4004.26709\tprogress: 592/742\n",
      "train_loss: 4134.75098\tprogress: 740/742\n",
      "total train loss: 2894294.88965\n",
      "last lr: 0.0005\n",
      "\n",
      "\n",
      "Epoch 34:\n",
      "-------------------------\n",
      "train_loss: 3728.52295\tprogress: 148/742\n",
      "train_loss: 3584.37256\tprogress: 296/742\n",
      "train_loss: 3781.86475\tprogress: 444/742\n",
      "train_loss: 4100.86572\tprogress: 592/742\n",
      "train_loss: 4095.44189\tprogress: 740/742\n",
      "total train loss: 2872974.66455\n",
      "last lr: 0.0005\n",
      "\n",
      "\n",
      "Epoch 35:\n",
      "-------------------------\n",
      "train_loss: 3660.59766\tprogress: 148/742\n",
      "train_loss: 3698.38159\tprogress: 296/742\n",
      "train_loss: 4090.66406\tprogress: 444/742\n",
      "train_loss: 3811.89233\tprogress: 592/742\n",
      "train_loss: 3940.78442\tprogress: 740/742\n",
      "total train loss: 2852409.56104\n",
      "last lr: 0.0005\n",
      "\n",
      "\n",
      "Epoch 36:\n",
      "-------------------------\n",
      "train_loss: 3904.93799\tprogress: 148/742\n",
      "train_loss: 3790.14502\tprogress: 296/742\n",
      "train_loss: 3809.16626\tprogress: 444/742\n",
      "train_loss: 3680.24243\tprogress: 592/742\n",
      "train_loss: 3728.81470\tprogress: 740/742\n",
      "total train loss: 2832559.88989\n",
      "last lr: 0.0005\n",
      "\n",
      "\n",
      "Epoch 37:\n",
      "-------------------------\n",
      "train_loss: 3878.81616\tprogress: 148/742\n",
      "train_loss: 3522.48242\tprogress: 296/742\n",
      "train_loss: 3655.28516\tprogress: 444/742\n",
      "train_loss: 3673.29785\tprogress: 592/742\n",
      "train_loss: 3797.85815\tprogress: 740/742\n",
      "total train loss: 2813315.47400\n",
      "last lr: 0.0005\n",
      "\n",
      "\n",
      "Epoch 38:\n",
      "-------------------------\n",
      "train_loss: 3871.19653\tprogress: 148/742\n",
      "train_loss: 3804.83008\tprogress: 296/742\n",
      "train_loss: 4026.74951\tprogress: 444/742\n",
      "train_loss: 3936.35767\tprogress: 592/742\n",
      "train_loss: 3793.36548\tprogress: 740/742\n",
      "total train loss: 2794745.38489\n",
      "last lr: 0.0005\n",
      "\n",
      "\n",
      "Epoch 39:\n",
      "-------------------------\n",
      "train_loss: 3789.76392\tprogress: 148/742\n",
      "train_loss: 3691.71118\tprogress: 296/742\n",
      "train_loss: 3767.36621\tprogress: 444/742\n",
      "train_loss: 3639.95044\tprogress: 592/742\n",
      "train_loss: 3846.05908\tprogress: 740/742\n",
      "total train loss: 2776789.65979\n",
      "last lr: 0.0005\n",
      "\n",
      "\n",
      "Epoch 40:\n",
      "-------------------------\n",
      "train_loss: 3586.42822\tprogress: 148/742\n",
      "train_loss: 3527.82983\tprogress: 296/742\n",
      "train_loss: 3793.86328\tprogress: 444/742\n",
      "train_loss: 3933.42651\tprogress: 592/742\n",
      "train_loss: 3586.49512\tprogress: 740/742\n",
      "total train loss: 2759329.36096\n",
      "last lr: 0.0005\n",
      "\n",
      "\n",
      "Epoch 41:\n",
      "-------------------------\n",
      "train_loss: 3447.04492\tprogress: 148/742\n",
      "train_loss: 3740.19775\tprogress: 296/742\n",
      "train_loss: 3755.22607\tprogress: 444/742\n",
      "train_loss: 3789.35767\tprogress: 592/742\n",
      "train_loss: 3745.11914\tprogress: 740/742\n",
      "total train loss: 2742402.16833\n",
      "last lr: 0.0005\n",
      "\n",
      "\n",
      "Epoch 42:\n",
      "-------------------------\n",
      "train_loss: 3657.35718\tprogress: 148/742\n",
      "train_loss: 3707.63770\tprogress: 296/742\n",
      "train_loss: 3492.31616\tprogress: 444/742\n",
      "train_loss: 3740.02930\tprogress: 592/742\n",
      "train_loss: 3720.57812\tprogress: 740/742\n",
      "total train loss: 2726027.57190\n",
      "last lr: 0.0005\n",
      "\n",
      "\n",
      "Epoch 43:\n",
      "-------------------------\n",
      "train_loss: 3420.29297\tprogress: 148/742\n",
      "train_loss: 3445.67578\tprogress: 296/742\n",
      "train_loss: 3630.03711\tprogress: 444/742\n",
      "train_loss: 3754.46167\tprogress: 592/742\n",
      "train_loss: 3800.40796\tprogress: 740/742\n",
      "total train loss: 2710080.03052\n",
      "last lr: 0.0005\n",
      "\n",
      "\n",
      "Epoch 44:\n",
      "-------------------------\n",
      "train_loss: 3523.53198\tprogress: 148/742\n",
      "train_loss: 3686.89307\tprogress: 296/742\n",
      "train_loss: 3490.04443\tprogress: 444/742\n",
      "train_loss: 3698.21069\tprogress: 592/742\n",
      "train_loss: 3920.66138\tprogress: 740/742\n",
      "total train loss: 2694658.13623\n",
      "last lr: 0.0005\n",
      "\n",
      "\n",
      "Epoch 45:\n",
      "-------------------------\n",
      "train_loss: 3554.21240\tprogress: 148/742\n",
      "train_loss: 3695.01929\tprogress: 296/742\n",
      "train_loss: 3628.03906\tprogress: 444/742\n",
      "train_loss: 3682.90747\tprogress: 592/742\n",
      "train_loss: 3578.68701\tprogress: 740/742\n",
      "total train loss: 2679632.32678\n",
      "last lr: 0.0005\n",
      "\n",
      "\n",
      "Epoch 46:\n",
      "-------------------------\n",
      "train_loss: 3609.82373\tprogress: 148/742\n",
      "train_loss: 3572.00464\tprogress: 296/742\n",
      "train_loss: 3658.28174\tprogress: 444/742\n",
      "train_loss: 3507.49170\tprogress: 592/742\n",
      "train_loss: 3818.32153\tprogress: 740/742\n",
      "total train loss: 2665027.24695\n",
      "last lr: 0.0005\n",
      "\n",
      "\n",
      "Epoch 47:\n",
      "-------------------------\n",
      "train_loss: 3581.75195\tprogress: 148/742\n",
      "train_loss: 3611.94360\tprogress: 296/742\n",
      "train_loss: 3592.68481\tprogress: 444/742\n",
      "train_loss: 3677.68701\tprogress: 592/742\n",
      "train_loss: 3580.86255\tprogress: 740/742\n",
      "total train loss: 2650773.68738\n",
      "last lr: 0.0005\n",
      "\n",
      "\n",
      "Epoch 48:\n",
      "-------------------------\n",
      "train_loss: 3508.46680\tprogress: 148/742\n",
      "train_loss: 3416.58789\tprogress: 296/742\n",
      "train_loss: 3463.75000\tprogress: 444/742\n",
      "train_loss: 3606.29980\tprogress: 592/742\n",
      "train_loss: 3590.01196\tprogress: 740/742\n",
      "total train loss: 2636947.78394\n",
      "last lr: 0.0005\n",
      "\n",
      "\n",
      "Epoch 49:\n",
      "-------------------------\n",
      "train_loss: 3427.51855\tprogress: 148/742\n",
      "train_loss: 3625.76953\tprogress: 296/742\n",
      "train_loss: 3728.65039\tprogress: 444/742\n",
      "train_loss: 3651.01294\tprogress: 592/742\n",
      "train_loss: 3650.42090\tprogress: 740/742\n",
      "total train loss: 2623486.83032\n",
      "last lr: 0.0005\n",
      "\n",
      "\n",
      "Epoch 50:\n",
      "-------------------------\n",
      "train_loss: 3490.39673\tprogress: 148/742\n",
      "train_loss: 3448.54297\tprogress: 296/742\n",
      "train_loss: 3660.12427\tprogress: 444/742\n",
      "train_loss: 3563.01880\tprogress: 592/742\n",
      "train_loss: 3348.82959\tprogress: 740/742\n",
      "total train loss: 2610357.45129\n",
      "last lr: 0.0005\n",
      "\n",
      "\n"
     ]
    }
   ],
   "source": [
    "for t in range(50):\n",
    "    print(f\"Epoch {t+1}:\\n-------------------------\")\n",
    "    train_loop(model, loss_fn, optim, loader, device)\n",
    "    print(f\"last lr: {scheduler.get_last_lr()[0]}\")\n",
    "    scheduler.step()\n",
    "    print('\\n')"
   ]
  },
  {
   "cell_type": "code",
   "execution_count": 17,
   "metadata": {
    "id": "BSToT8zitNvv"
   },
   "outputs": [],
   "source": [
    "# save embeds after 50 epochs;\n",
    "embeds_centers_50e = model.embed_center.weight.data.cpu().numpy()\n",
    "embeds_contexts_50e = model.embed_context.weight.data.cpu().numpy()"
   ]
  },
  {
   "cell_type": "code",
   "execution_count": 18,
   "metadata": {
    "colab": {
     "base_uri": "https://localhost:8080/"
    },
    "id": "M3bxG964ZIPz",
    "outputId": "1f14d63f-06c0-4865-ec63-0bca960aed57"
   },
   "outputs": [
    {
     "name": "stdout",
     "output_type": "stream",
     "text": [
      "Epoch 51:\n",
      "-------------------------\n",
      "train_loss: 3548.85376\tprogress: 148/742\n",
      "train_loss: 3489.54858\tprogress: 296/742\n",
      "train_loss: 3606.64453\tprogress: 444/742\n",
      "train_loss: 3235.06104\tprogress: 592/742\n",
      "train_loss: 3478.25195\tprogress: 740/742\n",
      "total train loss: 2574836.58459\n",
      "last lr: 0.00025\n",
      "\n",
      "\n",
      "Epoch 52:\n",
      "-------------------------\n",
      "train_loss: 3268.33276\tprogress: 148/742\n",
      "train_loss: 3404.49146\tprogress: 296/742\n",
      "train_loss: 3515.64111\tprogress: 444/742\n",
      "train_loss: 3495.95923\tprogress: 592/742\n",
      "train_loss: 3672.35327\tprogress: 740/742\n",
      "total train loss: 2568276.71997\n",
      "last lr: 0.00025\n",
      "\n",
      "\n",
      "Epoch 53:\n",
      "-------------------------\n",
      "train_loss: 3470.86035\tprogress: 148/742\n",
      "train_loss: 3530.40527\tprogress: 296/742\n",
      "train_loss: 3291.43481\tprogress: 444/742\n",
      "train_loss: 3445.16260\tprogress: 592/742\n",
      "train_loss: 3453.53931\tprogress: 740/742\n",
      "total train loss: 2562036.99976\n",
      "last lr: 0.00025\n",
      "\n",
      "\n",
      "Epoch 54:\n",
      "-------------------------\n",
      "train_loss: 3258.55908\tprogress: 148/742\n",
      "train_loss: 3563.06787\tprogress: 296/742\n",
      "train_loss: 3411.24292\tprogress: 444/742\n",
      "train_loss: 3629.27368\tprogress: 592/742\n",
      "train_loss: 3399.38013\tprogress: 740/742\n",
      "total train loss: 2555860.69824\n",
      "last lr: 0.00025\n",
      "\n",
      "\n",
      "Epoch 55:\n",
      "-------------------------\n",
      "train_loss: 3252.57178\tprogress: 148/742\n",
      "train_loss: 3585.90088\tprogress: 296/742\n",
      "train_loss: 3610.89307\tprogress: 444/742\n",
      "train_loss: 3589.99365\tprogress: 592/742\n",
      "train_loss: 3390.41846\tprogress: 740/742\n",
      "total train loss: 2549701.32263\n",
      "last lr: 0.00025\n",
      "\n",
      "\n",
      "Epoch 56:\n",
      "-------------------------\n",
      "train_loss: 3310.61133\tprogress: 148/742\n",
      "train_loss: 3513.67261\tprogress: 296/742\n",
      "train_loss: 3623.49902\tprogress: 444/742\n",
      "train_loss: 3355.34570\tprogress: 592/742\n",
      "train_loss: 3282.14771\tprogress: 740/742\n",
      "total train loss: 2543637.29016\n",
      "last lr: 0.00025\n",
      "\n",
      "\n",
      "Epoch 57:\n",
      "-------------------------\n",
      "train_loss: 3332.23950\tprogress: 148/742\n",
      "train_loss: 3344.04785\tprogress: 296/742\n",
      "train_loss: 3367.89917\tprogress: 444/742\n",
      "train_loss: 3350.30688\tprogress: 592/742\n",
      "train_loss: 3504.20483\tprogress: 740/742\n",
      "total train loss: 2537648.39258\n",
      "last lr: 0.00025\n",
      "\n",
      "\n",
      "Epoch 58:\n",
      "-------------------------\n",
      "train_loss: 3376.24341\tprogress: 148/742\n",
      "train_loss: 3468.05103\tprogress: 296/742\n",
      "train_loss: 3220.04028\tprogress: 444/742\n",
      "train_loss: 3376.94482\tprogress: 592/742\n",
      "train_loss: 3653.42114\tprogress: 740/742\n",
      "total train loss: 2531703.75427\n",
      "last lr: 0.00025\n",
      "\n",
      "\n",
      "Epoch 59:\n",
      "-------------------------\n",
      "train_loss: 3486.48804\tprogress: 148/742\n",
      "train_loss: 3271.20801\tprogress: 296/742\n",
      "train_loss: 3469.00537\tprogress: 444/742\n",
      "train_loss: 3624.80786\tprogress: 592/742\n",
      "train_loss: 3440.36328\tprogress: 740/742\n",
      "total train loss: 2525839.42322\n",
      "last lr: 0.00025\n",
      "\n",
      "\n",
      "Epoch 60:\n",
      "-------------------------\n",
      "train_loss: 3206.20508\tprogress: 148/742\n",
      "train_loss: 3559.37329\tprogress: 296/742\n",
      "train_loss: 3589.08130\tprogress: 444/742\n",
      "train_loss: 3454.28516\tprogress: 592/742\n",
      "train_loss: 3509.14014\tprogress: 740/742\n",
      "total train loss: 2520063.67566\n",
      "last lr: 0.00025\n",
      "\n",
      "\n",
      "Epoch 61:\n",
      "-------------------------\n",
      "train_loss: 3152.68726\tprogress: 148/742\n",
      "train_loss: 3292.60938\tprogress: 296/742\n",
      "train_loss: 3392.67822\tprogress: 444/742\n",
      "train_loss: 3300.61401\tprogress: 592/742\n",
      "train_loss: 3581.36035\tprogress: 740/742\n",
      "total train loss: 2514341.74622\n",
      "last lr: 0.00025\n",
      "\n",
      "\n",
      "Epoch 62:\n",
      "-------------------------\n",
      "train_loss: 3077.90234\tprogress: 148/742\n",
      "train_loss: 3320.74365\tprogress: 296/742\n",
      "train_loss: 3183.08740\tprogress: 444/742\n",
      "train_loss: 3541.20850\tprogress: 592/742\n",
      "train_loss: 3339.31299\tprogress: 740/742\n",
      "total train loss: 2508708.54834\n",
      "last lr: 0.00025\n",
      "\n",
      "\n",
      "Epoch 63:\n",
      "-------------------------\n",
      "train_loss: 3336.30273\tprogress: 148/742\n",
      "train_loss: 3434.17871\tprogress: 296/742\n",
      "train_loss: 3421.99170\tprogress: 444/742\n",
      "train_loss: 3309.11157\tprogress: 592/742\n",
      "train_loss: 3460.00562\tprogress: 740/742\n",
      "total train loss: 2503126.41699\n",
      "last lr: 0.00025\n",
      "\n",
      "\n",
      "Epoch 64:\n",
      "-------------------------\n",
      "train_loss: 3272.72217\tprogress: 148/742\n",
      "train_loss: 3384.69409\tprogress: 296/742\n",
      "train_loss: 3459.86938\tprogress: 444/742\n",
      "train_loss: 3455.30420\tprogress: 592/742\n",
      "train_loss: 3431.11816\tprogress: 740/742\n",
      "total train loss: 2497610.08264\n",
      "last lr: 0.00025\n",
      "\n",
      "\n",
      "Epoch 65:\n",
      "-------------------------\n",
      "train_loss: 3368.51807\tprogress: 148/742\n",
      "train_loss: 3230.91553\tprogress: 296/742\n",
      "train_loss: 3333.23706\tprogress: 444/742\n",
      "train_loss: 3378.64624\tprogress: 592/742\n",
      "train_loss: 3417.37305\tprogress: 740/742\n",
      "total train loss: 2492160.11670\n",
      "last lr: 0.00025\n",
      "\n",
      "\n",
      "Epoch 66:\n",
      "-------------------------\n",
      "train_loss: 3369.26733\tprogress: 148/742\n",
      "train_loss: 3296.26367\tprogress: 296/742\n",
      "train_loss: 3341.79688\tprogress: 444/742\n",
      "train_loss: 3162.95410\tprogress: 592/742\n",
      "train_loss: 3465.76953\tprogress: 740/742\n",
      "total train loss: 2486765.19080\n",
      "last lr: 0.00025\n",
      "\n",
      "\n",
      "Epoch 67:\n",
      "-------------------------\n",
      "train_loss: 3227.04712\tprogress: 148/742\n",
      "train_loss: 3559.00269\tprogress: 296/742\n",
      "train_loss: 3453.43140\tprogress: 444/742\n",
      "train_loss: 3253.51953\tprogress: 592/742\n",
      "train_loss: 3417.51465\tprogress: 740/742\n",
      "total train loss: 2481428.40405\n",
      "last lr: 0.00025\n",
      "\n",
      "\n",
      "Epoch 68:\n",
      "-------------------------\n",
      "train_loss: 3358.64111\tprogress: 148/742\n",
      "train_loss: 3387.50732\tprogress: 296/742\n",
      "train_loss: 3639.40234\tprogress: 444/742\n",
      "train_loss: 3279.18237\tprogress: 592/742\n",
      "train_loss: 3265.47559\tprogress: 740/742\n",
      "total train loss: 2476176.15173\n",
      "last lr: 0.00025\n",
      "\n",
      "\n",
      "Epoch 69:\n",
      "-------------------------\n",
      "train_loss: 3442.09424\tprogress: 148/742\n",
      "train_loss: 3393.96631\tprogress: 296/742\n",
      "train_loss: 3298.94312\tprogress: 444/742\n",
      "train_loss: 3265.57983\tprogress: 592/742\n",
      "train_loss: 3282.02148\tprogress: 740/742\n",
      "total train loss: 2470961.02356\n",
      "last lr: 0.00025\n",
      "\n",
      "\n",
      "Epoch 70:\n",
      "-------------------------\n",
      "train_loss: 3294.76416\tprogress: 148/742\n",
      "train_loss: 3613.29541\tprogress: 296/742\n",
      "train_loss: 3357.09619\tprogress: 444/742\n",
      "train_loss: 3233.99219\tprogress: 592/742\n",
      "train_loss: 3384.82715\tprogress: 740/742\n",
      "total train loss: 2465820.12732\n",
      "last lr: 0.00025\n",
      "\n",
      "\n",
      "Epoch 71:\n",
      "-------------------------\n",
      "train_loss: 3269.67749\tprogress: 148/742\n",
      "train_loss: 3207.11328\tprogress: 296/742\n",
      "train_loss: 3344.73315\tprogress: 444/742\n",
      "train_loss: 3222.42041\tprogress: 592/742\n",
      "train_loss: 3340.73633\tprogress: 740/742\n",
      "total train loss: 2460719.86633\n",
      "last lr: 0.00025\n",
      "\n",
      "\n",
      "Epoch 72:\n",
      "-------------------------\n",
      "train_loss: 3343.85571\tprogress: 148/742\n",
      "train_loss: 3136.93359\tprogress: 296/742\n",
      "train_loss: 3167.93140\tprogress: 444/742\n",
      "train_loss: 3294.72070\tprogress: 592/742\n",
      "train_loss: 3290.55518\tprogress: 740/742\n",
      "total train loss: 2455698.32458\n",
      "last lr: 0.00025\n",
      "\n",
      "\n",
      "Epoch 73:\n",
      "-------------------------\n",
      "train_loss: 3379.44775\tprogress: 148/742\n",
      "train_loss: 3335.16211\tprogress: 296/742\n",
      "train_loss: 3140.74316\tprogress: 444/742\n",
      "train_loss: 3438.71509\tprogress: 592/742\n",
      "train_loss: 3307.22217\tprogress: 740/742\n",
      "total train loss: 2450705.92004\n",
      "last lr: 0.00025\n",
      "\n",
      "\n",
      "Epoch 74:\n",
      "-------------------------\n",
      "train_loss: 3361.54834\tprogress: 148/742\n",
      "train_loss: 3176.55493\tprogress: 296/742\n",
      "train_loss: 3259.05029\tprogress: 444/742\n",
      "train_loss: 3239.03174\tprogress: 592/742\n",
      "train_loss: 3272.26440\tprogress: 740/742\n",
      "total train loss: 2445781.90698\n",
      "last lr: 0.00025\n",
      "\n",
      "\n",
      "Epoch 75:\n",
      "-------------------------\n",
      "train_loss: 3422.48950\tprogress: 148/742\n",
      "train_loss: 3045.96118\tprogress: 296/742\n",
      "train_loss: 3572.05859\tprogress: 444/742\n",
      "train_loss: 3267.30908\tprogress: 592/742\n",
      "train_loss: 3355.78223\tprogress: 740/742\n",
      "total train loss: 2440934.22363\n",
      "last lr: 0.00025\n",
      "\n",
      "\n",
      "Epoch 76:\n",
      "-------------------------\n",
      "train_loss: 3238.17065\tprogress: 148/742\n",
      "train_loss: 2999.35059\tprogress: 296/742\n",
      "train_loss: 3336.62598\tprogress: 444/742\n",
      "train_loss: 3352.34546\tprogress: 592/742\n",
      "train_loss: 3152.74658\tprogress: 740/742\n",
      "total train loss: 2424278.11304\n",
      "last lr: 0.000125\n",
      "\n",
      "\n",
      "Epoch 77:\n",
      "-------------------------\n",
      "train_loss: 3268.92212\tprogress: 148/742\n",
      "train_loss: 3283.57104\tprogress: 296/742\n",
      "train_loss: 3351.13135\tprogress: 444/742\n",
      "train_loss: 3347.50586\tprogress: 592/742\n",
      "train_loss: 3165.11279\tprogress: 740/742\n",
      "total train loss: 2421853.56702\n",
      "last lr: 0.000125\n",
      "\n",
      "\n",
      "Epoch 78:\n",
      "-------------------------\n",
      "train_loss: 3407.02637\tprogress: 148/742\n",
      "train_loss: 3447.02417\tprogress: 296/742\n",
      "train_loss: 3370.85840\tprogress: 444/742\n",
      "train_loss: 3036.60986\tprogress: 592/742\n",
      "train_loss: 3378.15503\tprogress: 740/742\n",
      "total train loss: 2419469.58667\n",
      "last lr: 0.000125\n",
      "\n",
      "\n",
      "Epoch 79:\n",
      "-------------------------\n",
      "train_loss: 3185.07910\tprogress: 148/742\n",
      "train_loss: 3225.82788\tprogress: 296/742\n",
      "train_loss: 3101.66992\tprogress: 444/742\n",
      "train_loss: 3188.56519\tprogress: 592/742\n",
      "train_loss: 3185.78369\tprogress: 740/742\n",
      "total train loss: 2417087.93628\n",
      "last lr: 0.000125\n",
      "\n",
      "\n",
      "Epoch 80:\n",
      "-------------------------\n",
      "train_loss: 3458.55640\tprogress: 148/742\n",
      "train_loss: 3267.66919\tprogress: 296/742\n",
      "train_loss: 3154.64551\tprogress: 444/742\n",
      "train_loss: 3323.32739\tprogress: 592/742\n",
      "train_loss: 3088.16992\tprogress: 740/742\n",
      "total train loss: 2414719.13367\n",
      "last lr: 0.000125\n",
      "\n",
      "\n",
      "Epoch 81:\n",
      "-------------------------\n",
      "train_loss: 3084.26758\tprogress: 148/742\n",
      "train_loss: 3611.54248\tprogress: 296/742\n",
      "train_loss: 3161.53296\tprogress: 444/742\n",
      "train_loss: 3127.68848\tprogress: 592/742\n",
      "train_loss: 3054.02441\tprogress: 740/742\n",
      "total train loss: 2412360.91467\n",
      "last lr: 0.000125\n",
      "\n",
      "\n",
      "Epoch 82:\n",
      "-------------------------\n",
      "train_loss: 3084.92065\tprogress: 148/742\n",
      "train_loss: 3060.88696\tprogress: 296/742\n",
      "train_loss: 3398.83276\tprogress: 444/742\n",
      "train_loss: 3056.94214\tprogress: 592/742\n",
      "train_loss: 3232.32642\tprogress: 740/742\n",
      "total train loss: 2410007.10535\n",
      "last lr: 0.000125\n",
      "\n",
      "\n",
      "Epoch 83:\n",
      "-------------------------\n",
      "train_loss: 3424.03735\tprogress: 148/742\n",
      "train_loss: 3316.51294\tprogress: 296/742\n",
      "train_loss: 3190.95312\tprogress: 444/742\n",
      "train_loss: 3225.21558\tprogress: 592/742\n",
      "train_loss: 3277.43994\tprogress: 740/742\n",
      "total train loss: 2407673.00281\n",
      "last lr: 0.000125\n",
      "\n",
      "\n",
      "Epoch 84:\n",
      "-------------------------\n",
      "train_loss: 3347.09619\tprogress: 148/742\n",
      "train_loss: 2990.24438\tprogress: 296/742\n",
      "train_loss: 3330.85596\tprogress: 444/742\n",
      "train_loss: 3319.20044\tprogress: 592/742\n",
      "train_loss: 2973.41675\tprogress: 740/742\n",
      "total train loss: 2405345.70996\n",
      "last lr: 0.000125\n",
      "\n",
      "\n",
      "Epoch 85:\n",
      "-------------------------\n",
      "train_loss: 3279.84375\tprogress: 148/742\n",
      "train_loss: 3253.50342\tprogress: 296/742\n",
      "train_loss: 3198.22827\tprogress: 444/742\n",
      "train_loss: 3042.90479\tprogress: 592/742\n",
      "train_loss: 3353.89746\tprogress: 740/742\n",
      "total train loss: 2403032.43579\n",
      "last lr: 0.000125\n",
      "\n",
      "\n",
      "Epoch 86:\n",
      "-------------------------\n",
      "train_loss: 3248.89380\tprogress: 148/742\n",
      "train_loss: 3267.98120\tprogress: 296/742\n",
      "train_loss: 3369.84131\tprogress: 444/742\n",
      "train_loss: 3292.19531\tprogress: 592/742\n",
      "train_loss: 3372.22412\tprogress: 740/742\n",
      "total train loss: 2400733.80383\n",
      "last lr: 0.000125\n",
      "\n",
      "\n",
      "Epoch 87:\n",
      "-------------------------\n",
      "train_loss: 3235.94092\tprogress: 148/742\n",
      "train_loss: 3481.81494\tprogress: 296/742\n",
      "train_loss: 3274.99854\tprogress: 444/742\n",
      "train_loss: 3375.82544\tprogress: 592/742\n",
      "train_loss: 3304.85278\tprogress: 740/742\n",
      "total train loss: 2398446.62927\n",
      "last lr: 0.000125\n",
      "\n",
      "\n",
      "Epoch 88:\n",
      "-------------------------\n",
      "train_loss: 3045.04175\tprogress: 148/742\n",
      "train_loss: 3037.11377\tprogress: 296/742\n",
      "train_loss: 3283.50879\tprogress: 444/742\n",
      "train_loss: 3189.07935\tprogress: 592/742\n",
      "train_loss: 3353.44897\tprogress: 740/742\n",
      "total train loss: 2396170.60913\n",
      "last lr: 0.000125\n",
      "\n",
      "\n",
      "Epoch 89:\n",
      "-------------------------\n",
      "train_loss: 2868.12500\tprogress: 148/742\n",
      "train_loss: 3197.66040\tprogress: 296/742\n",
      "train_loss: 3238.91016\tprogress: 444/742\n",
      "train_loss: 3322.76636\tprogress: 592/742\n",
      "train_loss: 3311.74048\tprogress: 740/742\n",
      "total train loss: 2393901.36890\n",
      "last lr: 0.000125\n",
      "\n",
      "\n",
      "Epoch 90:\n",
      "-------------------------\n",
      "train_loss: 3191.78101\tprogress: 148/742\n",
      "train_loss: 3264.70117\tprogress: 296/742\n",
      "train_loss: 3188.53687\tprogress: 444/742\n",
      "train_loss: 3214.01123\tprogress: 592/742\n",
      "train_loss: 3265.77832\tprogress: 740/742\n",
      "total train loss: 2391652.28931\n",
      "last lr: 0.000125\n",
      "\n",
      "\n",
      "Epoch 91:\n",
      "-------------------------\n",
      "train_loss: 3240.67725\tprogress: 148/742\n",
      "train_loss: 3380.30249\tprogress: 296/742\n",
      "train_loss: 3401.06885\tprogress: 444/742\n",
      "train_loss: 3182.27637\tprogress: 592/742\n",
      "train_loss: 3359.46631\tprogress: 740/742\n",
      "total train loss: 2389408.25818\n",
      "last lr: 0.000125\n",
      "\n",
      "\n",
      "Epoch 92:\n",
      "-------------------------\n",
      "train_loss: 3045.66797\tprogress: 148/742\n",
      "train_loss: 3166.47119\tprogress: 296/742\n",
      "train_loss: 3216.01172\tprogress: 444/742\n",
      "train_loss: 3245.24292\tprogress: 592/742\n",
      "train_loss: 3215.67139\tprogress: 740/742\n",
      "total train loss: 2387183.95715\n",
      "last lr: 0.000125\n",
      "\n",
      "\n",
      "Epoch 93:\n",
      "-------------------------\n",
      "train_loss: 2914.75342\tprogress: 148/742\n",
      "train_loss: 3051.12915\tprogress: 296/742\n",
      "train_loss: 3300.37671\tprogress: 444/742\n",
      "train_loss: 3196.25562\tprogress: 592/742\n",
      "train_loss: 3114.91235\tprogress: 740/742\n",
      "total train loss: 2384964.53235\n",
      "last lr: 0.000125\n",
      "\n",
      "\n",
      "Epoch 94:\n",
      "-------------------------\n",
      "train_loss: 2932.21021\tprogress: 148/742\n",
      "train_loss: 3177.24390\tprogress: 296/742\n",
      "train_loss: 3223.07080\tprogress: 444/742\n",
      "train_loss: 3169.63477\tprogress: 592/742\n",
      "train_loss: 3212.85669\tprogress: 740/742\n",
      "total train loss: 2382755.86084\n",
      "last lr: 0.000125\n",
      "\n",
      "\n",
      "Epoch 95:\n",
      "-------------------------\n",
      "train_loss: 3245.18042\tprogress: 148/742\n",
      "train_loss: 3149.20239\tprogress: 296/742\n",
      "train_loss: 2990.15088\tprogress: 444/742\n",
      "train_loss: 3360.71167\tprogress: 592/742\n",
      "train_loss: 3224.42065\tprogress: 740/742\n",
      "total train loss: 2380559.85413\n",
      "last lr: 0.000125\n",
      "\n",
      "\n",
      "Epoch 96:\n",
      "-------------------------\n",
      "train_loss: 3083.15430\tprogress: 148/742\n",
      "train_loss: 3142.03931\tprogress: 296/742\n",
      "train_loss: 3298.89233\tprogress: 444/742\n",
      "train_loss: 3178.85938\tprogress: 592/742\n",
      "train_loss: 3354.20288\tprogress: 740/742\n",
      "total train loss: 2378371.45215\n",
      "last lr: 0.000125\n",
      "\n",
      "\n",
      "Epoch 97:\n",
      "-------------------------\n",
      "train_loss: 3029.00439\tprogress: 148/742\n",
      "train_loss: 3213.38574\tprogress: 296/742\n",
      "train_loss: 3024.02441\tprogress: 444/742\n",
      "train_loss: 3206.13574\tprogress: 592/742\n",
      "train_loss: 3236.84058\tprogress: 740/742\n",
      "total train loss: 2376210.45850\n",
      "last lr: 0.000125\n",
      "\n",
      "\n",
      "Epoch 98:\n",
      "-------------------------\n",
      "train_loss: 3106.37695\tprogress: 148/742\n",
      "train_loss: 3454.40186\tprogress: 296/742\n",
      "train_loss: 3223.39771\tprogress: 444/742\n",
      "train_loss: 3366.53906\tprogress: 592/742\n",
      "train_loss: 3399.14941\tprogress: 740/742\n",
      "total train loss: 2374045.62598\n",
      "last lr: 0.000125\n",
      "\n",
      "\n",
      "Epoch 99:\n",
      "-------------------------\n",
      "train_loss: 3181.52148\tprogress: 148/742\n",
      "train_loss: 3207.25464\tprogress: 296/742\n",
      "train_loss: 3220.97241\tprogress: 444/742\n",
      "train_loss: 3265.13477\tprogress: 592/742\n",
      "train_loss: 3219.77930\tprogress: 740/742\n",
      "total train loss: 2371894.65979\n",
      "last lr: 0.000125\n",
      "\n",
      "\n",
      "Epoch 100:\n",
      "-------------------------\n",
      "train_loss: 3196.59717\tprogress: 148/742\n",
      "train_loss: 3345.02417\tprogress: 296/742\n",
      "train_loss: 3337.10156\tprogress: 444/742\n",
      "train_loss: 3077.33960\tprogress: 592/742\n",
      "train_loss: 3058.54492\tprogress: 740/742\n",
      "total train loss: 2369746.18860\n",
      "last lr: 0.000125\n",
      "\n",
      "\n"
     ]
    }
   ],
   "source": [
    "for t in range(50, 100):\n",
    "    print(f\"Epoch {t+1}:\\n-------------------------\")\n",
    "    train_loop(model, loss_fn, optim, loader, device)\n",
    "    print(f\"last lr: {scheduler.get_last_lr()[0]}\")\n",
    "    scheduler.step()\n",
    "    print('\\n')"
   ]
  },
  {
   "cell_type": "code",
   "execution_count": 19,
   "metadata": {
    "id": "vNMcJPWgv3L3"
   },
   "outputs": [],
   "source": [
    "# save embeds after 100 epochs;\n",
    "embeds_centers_100e = model.embed_center.weight.data.cpu().numpy()\n",
    "embeds_contexts_100e = model.embed_context.weight.data.cpu().numpy()"
   ]
  },
  {
   "cell_type": "markdown",
   "metadata": {
    "id": "_54cwL0HZIP1"
   },
   "source": [
    "### Serialize the embeddings (both center and context) as `numpy` objects;"
   ]
  },
  {
   "cell_type": "code",
   "execution_count": 20,
   "metadata": {
    "id": "m0dzr0VNZIP2"
   },
   "outputs": [],
   "source": [
    "np.save(\"w2v_embeds_wikitext2_centers_100e.npy\", embeds_centers_100e)\n",
    "np.save(\"w2v_embeds_wikitext2_contexts_100e.npy\", embeds_contexts_100e)"
   ]
  },
  {
   "cell_type": "markdown",
   "metadata": {
    "id": "YTJF7vwcZIP2"
   },
   "source": [
    "### Import embeddings and check some similarities;"
   ]
  },
  {
   "cell_type": "code",
   "execution_count": 21,
   "metadata": {
    "id": "HNQMAznBZIP4"
   },
   "outputs": [],
   "source": [
    "with open(\"w2v_embeds_wikitext2_centers_100e.npy\", 'rb') as f:\n",
    "    embeds_centers = np.load(f)\n",
    "    embeds_centers_t = torch.tensor(embeds_centers, requires_grad=False)"
   ]
  },
  {
   "cell_type": "code",
   "execution_count": 22,
   "metadata": {
    "colab": {
     "base_uri": "https://localhost:8080/"
    },
    "id": "kj4bE44bZIP5",
    "outputId": "f2a003cf-34c9-4777-ef83-dd151f9ff27e"
   },
   "outputs": [
    {
     "name": "stdout",
     "output_type": "stream",
     "text": [
      "tensor([1.0000, 0.5405, 0.5398, 0.5368, 0.5197, 0.5151, 0.5131, 0.5076])\n",
      "['mrna', 'cellular', 'structural', 'chromatin', 'transcriptional', 'nucleoplasm', 'rna', 'subunits']\n"
     ]
    }
   ],
   "source": [
    "# some nice biology analogies;\n",
    "scores, idxs = w2v_neg.get_close_words(\"mrna\", embeds_centers_t, vocab, k=8)\n",
    "print(scores.reshape(-1))\n",
    "print(vocab.convert_to_token(idxs.reshape(-1).tolist()))"
   ]
  },
  {
   "cell_type": "code",
   "execution_count": 23,
   "metadata": {
    "colab": {
     "base_uri": "https://localhost:8080/"
    },
    "id": "Vvj5UpJ7TpXg",
    "outputId": "d9e52060-ec2b-491c-f0fe-327c86b0dab8"
   },
   "outputs": [
    {
     "name": "stdout",
     "output_type": "stream",
     "text": [
      "tensor([1.0000, 0.5536, 0.5158, 0.5046, 0.5006, 0.4921, 0.4857, 0.4727])\n",
      "['viruses', 'synthesize', 'eukaryotes', 'replication', 'protein', 'chromatin', 'transcriptional', 'extracted']\n"
     ]
    }
   ],
   "source": [
    "# very popular topic these days;\n",
    "scores, idxs = w2v_neg.get_close_words(\"viruses\", embeds_centers_t, vocab, k=8)\n",
    "print(scores.reshape(-1))\n",
    "print(vocab.convert_to_token(idxs.reshape(-1).tolist()))"
   ]
  },
  {
   "cell_type": "markdown",
   "metadata": {
    "id": "SDR2FNQzZIP7"
   },
   "source": [
    "### Let's inspect some combinations of vectors;"
   ]
  },
  {
   "cell_type": "code",
   "execution_count": 24,
   "metadata": {
    "id": "75XfBPBhZIP8"
   },
   "outputs": [],
   "source": [
    "v = embeds_centers_t[vocab[\"woman\"]] + embeds_centers_t[vocab[\"army\"]]\n",
    "cos_sims = (embeds_centers_t @ v.reshape(-1, 1)) / (torch.sqrt((embeds_centers_t \\\n",
    "                                                   * embeds_centers_t).sum(1)).reshape(-1, 1) \\\n",
    "                                                   * torch.sqrt((v * v).sum()))\n",
    "scores, idxs = torch.topk(cos_sims, k=8, dim=0)"
   ]
  },
  {
   "cell_type": "code",
   "execution_count": 25,
   "metadata": {
    "colab": {
     "base_uri": "https://localhost:8080/"
    },
    "id": "FzmEHOPKZIP8",
    "outputId": "83a1c30c-b934-4970-9841-a1591339045a"
   },
   "outputs": [
    {
     "name": "stdout",
     "output_type": "stream",
     "text": [
      "tensor([0.7414, 0.7373, 0.4589, 0.4533, 0.4511, 0.4435, 0.4429, 0.4411])\n",
      "['woman', 'army', 'cults', 'inauguration', 'sniper', 'parole', 'qedarite', 'commanded']\n"
     ]
    }
   ],
   "source": [
    "print(scores.reshape(-1))\n",
    "print(vocab.convert_to_token(idxs.reshape(-1).tolist()))"
   ]
  },
  {
   "cell_type": "markdown",
   "metadata": {
    "id": "_pnr70EfZIP_"
   },
   "source": [
    "### See some low-dim visualisations of the w2v embeddings;"
   ]
  },
  {
   "cell_type": "code",
   "execution_count": 26,
   "metadata": {
    "id": "AtKGeshbZIP_"
   },
   "outputs": [],
   "source": [
    "# get center words;\n",
    "center_samples = torch.tensor(random.sample(list(range(vocab.num_special_tokens, \n",
    "                                                       len(vocab))), k=50))\n",
    "named_center_samples = vocab.convert_to_token(center_samples.tolist())\n",
    "center_vectors = embeds_centers_t[center_samples]\n",
    "# get close words for the centers;\n",
    "all_close_ones = []\n",
    "# get close words for each center;\n",
    "for word in named_center_samples:\n",
    "    scores, idxs = w2v_neg.get_close_words(word, embeds_centers_t, vocab, k=5)\n",
    "    # pick contexts with at least 0.45 cosine similarity;\n",
    "    idxs = [idx.item() for score, idx in zip(scores, idxs) if score >= 0.45]\n",
    "    # the first element is the center itself, so skip it;\n",
    "    all_close_ones += idxs[1:]  \n",
    "# get the vectors of close words and map the indeces of close words\n",
    "# to strings;\n",
    "close_vectors = embeds_centers_t[all_close_ones]\n",
    "named_close_ones = vocab.convert_to_token(all_close_ones)"
   ]
  },
  {
   "cell_type": "markdown",
   "metadata": {
    "id": "Abg5-d_ZZIQE"
   },
   "source": [
    "### Setup `TSNE` embeds;"
   ]
  },
  {
   "cell_type": "code",
   "execution_count": 27,
   "metadata": {
    "id": "tzf33aKTZIQF"
   },
   "outputs": [],
   "source": [
    "from sklearn.manifold import TSNE\n",
    "import matplotlib as mpl\n",
    "import matplotlib.pyplot as plt\n",
    "mpl.style.use([\"ggplot\", \"dark_background\"])"
   ]
  },
  {
   "cell_type": "code",
   "execution_count": 28,
   "metadata": {
    "colab": {
     "base_uri": "https://localhost:8080/"
    },
    "id": "L0DbTio7ZIQF",
    "outputId": "21b51c17-8715-4fa0-b123-c50575de08d2"
   },
   "outputs": [
    {
     "name": "stdout",
     "output_type": "stream",
     "text": [
      "torch.Size([158, 100])\n"
     ]
    }
   ],
   "source": [
    "all_vectors = torch.cat((center_vectors, close_vectors), dim=0)\n",
    "print(all_vectors.shape)"
   ]
  },
  {
   "cell_type": "code",
   "execution_count": 29,
   "metadata": {
    "id": "NWtnOyumZIQG"
   },
   "outputs": [],
   "source": [
    "tsne = TSNE(random_state=42)"
   ]
  },
  {
   "cell_type": "code",
   "execution_count": 30,
   "metadata": {
    "id": "F-sYTwJPZIQH"
   },
   "outputs": [],
   "source": [
    "output = tsne.fit_transform(all_vectors.detach().numpy())"
   ]
  },
  {
   "cell_type": "code",
   "execution_count": 31,
   "metadata": {
    "id": "fTwGLqjXZIQH"
   },
   "outputs": [],
   "source": [
    "centers = output[:50]\n",
    "close_ones = output[50:]"
   ]
  },
  {
   "cell_type": "markdown",
   "metadata": {
    "id": "kQDpf2ojZIQH"
   },
   "source": [
    "### Plot the data;"
   ]
  },
  {
   "cell_type": "code",
   "execution_count": 32,
   "metadata": {
    "colab": {
     "base_uri": "https://localhost:8080/",
     "height": 928
    },
    "id": "TRlC42YvZIQH",
    "outputId": "bfd019b3-a94f-4bb8-d333-ad4265058749"
   },
   "outputs": [
    {
     "data": {
      "image/png": "[encoded data removed]",
      "text/plain": [
       "<Figure size 1152x1152 with 1 Axes>"
      ]
     },
     "metadata": {},
     "output_type": "display_data"
    }
   ],
   "source": [
    "fig, ax = plt.subplots(figsize=(16, 16))\n",
    "ax.scatter(centers[:,0], centers[:, 1], color='m', marker='v', s=80)\n",
    "ax.scatter(close_ones[:, 0], close_ones[:, 1], color='green', marker='o', s=20)\n",
    "for i in range(len(output)):\n",
    "    if i < 50:\n",
    "        ax.annotate(named_center_samples[i], (centers[i, 0], centers[i, 1]), \n",
    "                    color='r', size=15)\n",
    "    else:\n",
    "        ax.annotate(named_close_ones[i - 50], (close_ones[i-50, 0], close_ones[i-50, 1]), \n",
    "                    color='b', size=13)\n",
    "ax.set_title(\"TSNE embeddings of randomly selected words;\")\n",
    "plt.legend([\"center\", \"context\"], prop={\"size\": 15})\n",
    "plt.show()"
   ]
  }
 ],
 "metadata": {
  "accelerator": "GPU",
  "colab": {
   "name": "w2v_NEG_Wiki2.ipynb",
   "provenance": []
  },
  "kernelspec": {
   "display_name": "Python 3",
   "language": "python",
   "name": "python3"
  },
  "language_info": {
   "codemirror_mode": {
    "name": "ipython",
    "version": 3
   },
   "file_extension": ".py",
   "mimetype": "text/x-python",
   "name": "python",
   "nbconvert_exporter": "python",
   "pygments_lexer": "ipython3",
   "version": "3.8.3"
  }
 },
 "nbformat": 4,
 "nbformat_minor": 1
}
