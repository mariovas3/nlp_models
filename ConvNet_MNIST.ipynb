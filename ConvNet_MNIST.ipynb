{
 "cells": [
  {
   "cell_type": "code",
   "execution_count": 1,
   "metadata": {},
   "outputs": [],
   "source": [
    "import torch\n",
    "from torchvision import datasets\n",
    "from torch.utils.data import DataLoader\n",
    "from torchvision.transforms import ToTensor\n",
    "from torch import nn"
   ]
  },
  {
   "cell_type": "code",
   "execution_count": 2,
   "metadata": {},
   "outputs": [
    {
     "data": {
      "text/plain": [
       "<torch._C.Generator at 0x7f9a700dd590>"
      ]
     },
     "execution_count": 2,
     "metadata": {},
     "output_type": "execute_result"
    }
   ],
   "source": [
    "torch.manual_seed(42)"
   ]
  },
  {
   "cell_type": "code",
   "execution_count": 3,
   "metadata": {},
   "outputs": [
    {
     "name": "stdout",
     "output_type": "stream",
     "text": [
      "Computations done with cpu\n"
     ]
    },
    {
     "name": "stderr",
     "output_type": "stream",
     "text": [
      "/home/mvas/.local/lib/python3.8/site-packages/torch/cuda/__init__.py:52: UserWarning: CUDA initialization: The NVIDIA driver on your system is too old (found version 9010). Please update your GPU driver by downloading and installing a new version from the URL: http://www.nvidia.com/Download/index.aspx Alternatively, go to: https://pytorch.org to install a PyTorch version that has been compiled with your version of the CUDA driver. (Triggered internally at  /pytorch/c10/cuda/CUDAFunctions.cpp:109.)\n",
      "  return torch._C._cuda_getDeviceCount() > 0\n"
     ]
    }
   ],
   "source": [
    "# make slight modifications if GPU available;\n",
    "device = \"cuda\" if torch.cuda.is_available() else \"cpu\"\n",
    "print(f\"Computations done with {device}\")"
   ]
  },
  {
   "cell_type": "markdown",
   "metadata": {},
   "source": [
    "### 1) Pick model class;"
   ]
  },
  {
   "cell_type": "code",
   "execution_count": 4,
   "metadata": {},
   "outputs": [],
   "source": [
    "class ConvNet(nn.Module):\n",
    "    \n",
    "    # constructor\n",
    "    def __init__(self):\n",
    "        super(ConvNet, self).__init__()\n",
    "        \n",
    "        self.conv_net = nn.Sequential(\n",
    "            # MNIST image is 1x28x28\n",
    "            # first conv transforms to 5x28x28\n",
    "            nn.Conv2d(in_channels=1, out_channels=5, kernel_size=(3, 3), padding=1),\n",
    "            nn.ReLU(),\n",
    "            # no padding so get down to 5x14x14\n",
    "            nn.MaxPool2d(kernel_size=(2, 2)),\n",
    "            # no padding so go to 8x12x12\n",
    "            nn.Conv2d(in_channels=5, out_channels=8, kernel_size=(3, 3)),\n",
    "            nn.ReLU(),\n",
    "            # again no padding so go to 8x6x6\n",
    "            nn.MaxPool2d(kernel_size=(2, 2)),\n",
    "            # start with the flat layers\n",
    "            nn.Flatten(),\n",
    "            nn.Linear(6 * 6 * 8, 15 * 15),\n",
    "            nn.ReLU(),\n",
    "            nn.Linear(15 * 15, 10)\n",
    "        )\n",
    "        \n",
    "    # forward pass\n",
    "    def forward(self, x):\n",
    "        return self.conv_net(x)"
   ]
  },
  {
   "cell_type": "code",
   "execution_count": 5,
   "metadata": {},
   "outputs": [],
   "source": [
    "# instantiate ConvNet object;\n",
    "model = ConvNet()"
   ]
  },
  {
   "cell_type": "markdown",
   "metadata": {},
   "source": [
    "### 2) Pick loss function;"
   ]
  },
  {
   "cell_type": "code",
   "execution_count": 6,
   "metadata": {},
   "outputs": [],
   "source": [
    "loss_fn = nn.CrossEntropyLoss()"
   ]
  },
  {
   "cell_type": "markdown",
   "metadata": {},
   "source": [
    "### 3) Pick optimiser;"
   ]
  },
  {
   "cell_type": "code",
   "execution_count": 7,
   "metadata": {},
   "outputs": [],
   "source": [
    "sgd_optim = torch.optim.SGD(model.parameters(), lr=1e-3)"
   ]
  },
  {
   "cell_type": "code",
   "execution_count": 8,
   "metadata": {},
   "outputs": [],
   "source": [
    "def train_loop(train_dataloader, model, optim, loss_fn):\n",
    "    size = len(train_dataloader.dataset)\n",
    "    \n",
    "    for batch, (X, y) in enumerate(train_dataloader, start=1):\n",
    "        \n",
    "        # forward pass\n",
    "        pred = model(X)\n",
    "        loss = loss_fn(pred, y)\n",
    "        \n",
    "        # backward pass\n",
    "        optim.zero_grad()\n",
    "        loss.backward()\n",
    "        optim.step()\n",
    "        \n",
    "        # print progress\n",
    "        if batch % 100 == 0:\n",
    "            print(f\"Train loss: {loss:.5f}\\tprogress: {batch * len(X)}/{size}\")"
   ]
  },
  {
   "cell_type": "code",
   "execution_count": 9,
   "metadata": {},
   "outputs": [],
   "source": [
    "def test_loop(test_dataloader, model, loss_fn):\n",
    "    \n",
    "    test_loss, n_correct = 0, 0\n",
    "    size = len(test_dataloader.dataset)\n",
    "    \n",
    "    # don't record operations\n",
    "    with torch.no_grad():\n",
    "        for (X, y) in test_dataloader:\n",
    "            \n",
    "            pred = model(X)\n",
    "            loss = loss_fn(pred, y)\n",
    "            \n",
    "            # update correct predictions and test loss;\n",
    "            test_loss += loss * len(X)\n",
    "            n_correct += (pred.argmax(1) == y).sum().item()\n",
    "            \n",
    "    print(f\"Test loss: {test_loss / size : .5f}\\tTest Accuracy: {n_correct / size : .5f}\\n\")"
   ]
  },
  {
   "cell_type": "code",
   "execution_count": 10,
   "metadata": {},
   "outputs": [],
   "source": [
    "# get the data\n",
    "train_data = datasets.MNIST(\n",
    "    root = \"data\",\n",
    "    train = True,\n",
    "    download = True,\n",
    "    transform = ToTensor()\n",
    ")\n",
    "\n",
    "test_data = datasets.MNIST(\n",
    "    root = \"data\",\n",
    "    train = False,\n",
    "    download = True,\n",
    "    transform = ToTensor()\n",
    ")"
   ]
  },
  {
   "cell_type": "code",
   "execution_count": 11,
   "metadata": {},
   "outputs": [],
   "source": [
    "# Wrap a DataLoader on the datasets to be able to iterate;\n",
    "train_dataloader = DataLoader(train_data, shuffle=True, batch_size=50)\n",
    "test_dataloader = DataLoader(test_data, batch_size=50)"
   ]
  },
  {
   "cell_type": "code",
   "execution_count": 12,
   "metadata": {
    "scrolled": true
   },
   "outputs": [
    {
     "name": "stdout",
     "output_type": "stream",
     "text": [
      "Epoch 1:\n",
      "----------------------------------\n",
      "Train loss: 2.29405\tprogress: 5000/60000\n",
      "Train loss: 2.30661\tprogress: 10000/60000\n",
      "Train loss: 2.29076\tprogress: 15000/60000\n",
      "Train loss: 2.29867\tprogress: 20000/60000\n",
      "Train loss: 2.28425\tprogress: 25000/60000\n",
      "Train loss: 2.30317\tprogress: 30000/60000\n",
      "Train loss: 2.29785\tprogress: 35000/60000\n",
      "Train loss: 2.28824\tprogress: 40000/60000\n",
      "Train loss: 2.29831\tprogress: 45000/60000\n",
      "Train loss: 2.29207\tprogress: 50000/60000\n",
      "Train loss: 2.27710\tprogress: 55000/60000\n",
      "Train loss: 2.28979\tprogress: 60000/60000\n",
      "Test loss:  2.28741\tTest Accuracy:  0.15910\n",
      "\n",
      "Epoch 2:\n",
      "----------------------------------\n",
      "Train loss: 2.29819\tprogress: 5000/60000\n",
      "Train loss: 2.27122\tprogress: 10000/60000\n",
      "Train loss: 2.28816\tprogress: 15000/60000\n",
      "Train loss: 2.28007\tprogress: 20000/60000\n",
      "Train loss: 2.27973\tprogress: 25000/60000\n",
      "Train loss: 2.27879\tprogress: 30000/60000\n",
      "Train loss: 2.27489\tprogress: 35000/60000\n",
      "Train loss: 2.26222\tprogress: 40000/60000\n",
      "Train loss: 2.27225\tprogress: 45000/60000\n",
      "Train loss: 2.27150\tprogress: 50000/60000\n",
      "Train loss: 2.23167\tprogress: 55000/60000\n",
      "Train loss: 2.26854\tprogress: 60000/60000\n",
      "Test loss:  2.24473\tTest Accuracy:  0.38910\n",
      "\n",
      "Epoch 3:\n",
      "----------------------------------\n",
      "Train loss: 2.24201\tprogress: 5000/60000\n",
      "Train loss: 2.23544\tprogress: 10000/60000\n",
      "Train loss: 2.22618\tprogress: 15000/60000\n",
      "Train loss: 2.23143\tprogress: 20000/60000\n",
      "Train loss: 2.22330\tprogress: 25000/60000\n",
      "Train loss: 2.21123\tprogress: 30000/60000\n",
      "Train loss: 2.17378\tprogress: 35000/60000\n",
      "Train loss: 2.15437\tprogress: 40000/60000\n",
      "Train loss: 2.12732\tprogress: 45000/60000\n",
      "Train loss: 2.11461\tprogress: 50000/60000\n",
      "Train loss: 2.07074\tprogress: 55000/60000\n",
      "Train loss: 2.03295\tprogress: 60000/60000\n",
      "Test loss:  2.03569\tTest Accuracy:  0.51320\n",
      "\n",
      "Epoch 4:\n",
      "----------------------------------\n",
      "Train loss: 2.07570\tprogress: 5000/60000\n",
      "Train loss: 2.00187\tprogress: 10000/60000\n",
      "Train loss: 1.99019\tprogress: 15000/60000\n",
      "Train loss: 1.83342\tprogress: 20000/60000\n",
      "Train loss: 1.66373\tprogress: 25000/60000\n",
      "Train loss: 1.72092\tprogress: 30000/60000\n",
      "Train loss: 1.49566\tprogress: 35000/60000\n",
      "Train loss: 1.45659\tprogress: 40000/60000\n",
      "Train loss: 1.37575\tprogress: 45000/60000\n",
      "Train loss: 1.28424\tprogress: 50000/60000\n",
      "Train loss: 1.16916\tprogress: 55000/60000\n",
      "Train loss: 1.11201\tprogress: 60000/60000\n",
      "Test loss:  1.02664\tTest Accuracy:  0.73980\n",
      "\n",
      "Epoch 5:\n",
      "----------------------------------\n",
      "Train loss: 0.70743\tprogress: 5000/60000\n",
      "Train loss: 0.76862\tprogress: 10000/60000\n",
      "Train loss: 0.80712\tprogress: 15000/60000\n",
      "Train loss: 0.69834\tprogress: 20000/60000\n",
      "Train loss: 0.81353\tprogress: 25000/60000\n",
      "Train loss: 0.72206\tprogress: 30000/60000\n",
      "Train loss: 0.76331\tprogress: 35000/60000\n",
      "Train loss: 0.53057\tprogress: 40000/60000\n",
      "Train loss: 0.56879\tprogress: 45000/60000\n",
      "Train loss: 0.68067\tprogress: 50000/60000\n",
      "Train loss: 0.58534\tprogress: 55000/60000\n",
      "Train loss: 0.63391\tprogress: 60000/60000\n",
      "Test loss:  0.56539\tTest Accuracy:  0.84350\n",
      "\n",
      "Epoch 6:\n",
      "----------------------------------\n",
      "Train loss: 0.59952\tprogress: 5000/60000\n",
      "Train loss: 0.73754\tprogress: 10000/60000\n",
      "Train loss: 0.54737\tprogress: 15000/60000\n",
      "Train loss: 0.36573\tprogress: 20000/60000\n",
      "Train loss: 0.31710\tprogress: 25000/60000\n",
      "Train loss: 0.53711\tprogress: 30000/60000\n",
      "Train loss: 0.56549\tprogress: 35000/60000\n",
      "Train loss: 0.56017\tprogress: 40000/60000\n",
      "Train loss: 0.36594\tprogress: 45000/60000\n",
      "Train loss: 0.58891\tprogress: 50000/60000\n",
      "Train loss: 0.52386\tprogress: 55000/60000\n",
      "Train loss: 0.44704\tprogress: 60000/60000\n",
      "Test loss:  0.44008\tTest Accuracy:  0.87580\n",
      "\n",
      "Epoch 7:\n",
      "----------------------------------\n",
      "Train loss: 0.61572\tprogress: 5000/60000\n",
      "Train loss: 0.43268\tprogress: 10000/60000\n",
      "Train loss: 0.35627\tprogress: 15000/60000\n",
      "Train loss: 0.41629\tprogress: 20000/60000\n",
      "Train loss: 0.50202\tprogress: 25000/60000\n",
      "Train loss: 0.62360\tprogress: 30000/60000\n",
      "Train loss: 0.45126\tprogress: 35000/60000\n",
      "Train loss: 0.45913\tprogress: 40000/60000\n",
      "Train loss: 0.61502\tprogress: 45000/60000\n",
      "Train loss: 0.19061\tprogress: 50000/60000\n",
      "Train loss: 0.52844\tprogress: 55000/60000\n",
      "Train loss: 0.39962\tprogress: 60000/60000\n",
      "Test loss:  0.37956\tTest Accuracy:  0.88900\n",
      "\n",
      "Epoch 8:\n",
      "----------------------------------\n",
      "Train loss: 0.26965\tprogress: 5000/60000\n",
      "Train loss: 0.20072\tprogress: 10000/60000\n",
      "Train loss: 0.31244\tprogress: 15000/60000\n",
      "Train loss: 0.56189\tprogress: 20000/60000\n",
      "Train loss: 0.48044\tprogress: 25000/60000\n",
      "Train loss: 0.38032\tprogress: 30000/60000\n",
      "Train loss: 0.49789\tprogress: 35000/60000\n",
      "Train loss: 0.31226\tprogress: 40000/60000\n",
      "Train loss: 0.38104\tprogress: 45000/60000\n",
      "Train loss: 0.35806\tprogress: 50000/60000\n",
      "Train loss: 0.31888\tprogress: 55000/60000\n",
      "Train loss: 0.24622\tprogress: 60000/60000\n",
      "Test loss:  0.34228\tTest Accuracy:  0.90030\n",
      "\n",
      "Epoch 9:\n",
      "----------------------------------\n",
      "Train loss: 0.32939\tprogress: 5000/60000\n",
      "Train loss: 0.21978\tprogress: 10000/60000\n",
      "Train loss: 0.31102\tprogress: 15000/60000\n",
      "Train loss: 0.24114\tprogress: 20000/60000\n",
      "Train loss: 0.19551\tprogress: 25000/60000\n",
      "Train loss: 0.46464\tprogress: 30000/60000\n",
      "Train loss: 0.24713\tprogress: 35000/60000\n",
      "Train loss: 0.29570\tprogress: 40000/60000\n",
      "Train loss: 0.22979\tprogress: 45000/60000\n",
      "Train loss: 0.48396\tprogress: 50000/60000\n",
      "Train loss: 0.22169\tprogress: 55000/60000\n",
      "Train loss: 0.27071\tprogress: 60000/60000\n",
      "Test loss:  0.31281\tTest Accuracy:  0.90810\n",
      "\n",
      "Epoch 10:\n",
      "----------------------------------\n",
      "Train loss: 0.24876\tprogress: 5000/60000\n",
      "Train loss: 0.64949\tprogress: 10000/60000\n",
      "Train loss: 0.18392\tprogress: 15000/60000\n",
      "Train loss: 0.52733\tprogress: 20000/60000\n",
      "Train loss: 0.29607\tprogress: 25000/60000\n",
      "Train loss: 0.34047\tprogress: 30000/60000\n",
      "Train loss: 0.15680\tprogress: 35000/60000\n",
      "Train loss: 0.22648\tprogress: 40000/60000\n",
      "Train loss: 0.38828\tprogress: 45000/60000\n",
      "Train loss: 0.20263\tprogress: 50000/60000\n",
      "Train loss: 0.21772\tprogress: 55000/60000\n",
      "Train loss: 0.17354\tprogress: 60000/60000\n",
      "Test loss:  0.29451\tTest Accuracy:  0.91250\n",
      "\n"
     ]
    }
   ],
   "source": [
    "epochs = 10\n",
    "\n",
    "for t in range(epochs):\n",
    "    print(f\"Epoch {t+1}:\\n----------------------------------\")\n",
    "    train_loop(train_dataloader, model, sgd_optim, loss_fn)\n",
    "    test_loop(test_dataloader, model, loss_fn)"
   ]
  },
  {
   "cell_type": "code",
   "execution_count": 13,
   "metadata": {},
   "outputs": [],
   "source": [
    "import matplotlib.pyplot as plt"
   ]
  },
  {
   "cell_type": "code",
   "execution_count": 14,
   "metadata": {},
   "outputs": [
    {
     "data": {
      "image/png": "[encoded data removed]",
      "text/plain": [
       "<Figure size 864x864 with 12 Axes>"
      ]
     },
     "metadata": {
      "needs_background": "light"
     },
     "output_type": "display_data"
    }
   ],
   "source": [
    "# plot 12 predictions;\n",
    "cols, rows = 4, 3\n",
    "\n",
    "fig = plt.figure(figsize=(12, 12))\n",
    "\n",
    "for i in range(1, rows * cols + 1):\n",
    "    \n",
    "    # get a random image;\n",
    "    sample_idx = torch.randint(len(train_dataloader.dataset), size=(1, )).item()\n",
    "    img, label = train_data[sample_idx]\n",
    "    \n",
    "    # pass through the model;\n",
    "    pred = model(img.reshape(1,1,28,28))\n",
    "    \n",
    "    fig.add_subplot(rows, cols, i)\n",
    "    plt.title(f\"true: {label},  pred: {pred.argmax(1).item()}\")\n",
    "    plt.axis(\"off\")\n",
    "    plt.imshow(img.squeeze(), cmap=\"gray\")\n",
    "\n",
    "plt.show()"
   ]
  }
 ],
 "metadata": {
  "kernelspec": {
   "display_name": "Python 3",
   "language": "python",
   "name": "python3"
  },
  "language_info": {
   "codemirror_mode": {
    "name": "ipython",
    "version": 3
   },
   "file_extension": ".py",
   "mimetype": "text/x-python",
   "name": "python",
   "nbconvert_exporter": "python",
   "pygments_lexer": "ipython3",
   "version": "3.8.3"
  }
 },
 "nbformat": 4,
 "nbformat_minor": 4
}
