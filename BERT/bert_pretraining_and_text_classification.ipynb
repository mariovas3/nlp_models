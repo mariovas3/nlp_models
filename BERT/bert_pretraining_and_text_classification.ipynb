{
 "cells": [
  {
   "cell_type": "markdown",
   "metadata": {
    "id": "jIANsrt7DIpn"
   },
   "source": [
    "## This notebook shows how to pretrain BERT and use it for text classification as a downstream task;\n",
    "* I used the compute resources from Google Colab (awesome lads)."
   ]
  },
  {
   "cell_type": "code",
   "execution_count": 1,
   "metadata": {
    "colab": {
     "base_uri": "https://localhost:8080/"
    },
    "id": "0GYCrx05_Bgs",
    "outputId": "ff378c7e-613a-4030-f530-4d53931e3dbe"
   },
   "outputs": [
    {
     "name": "stdout",
     "output_type": "stream",
     "text": [
      "Requirement already satisfied: torch==1.9 in /usr/local/lib/python3.7/dist-packages (1.9.0+cu102)\n",
      "Requirement already satisfied: typing-extensions in /usr/local/lib/python3.7/dist-packages (from torch==1.9) (3.7.4.3)\n",
      "Requirement already satisfied: torchtext==0.10 in /usr/local/lib/python3.7/dist-packages (0.10.0)\n",
      "Requirement already satisfied: torch==1.9.0 in /usr/local/lib/python3.7/dist-packages (from torchtext==0.10) (1.9.0+cu102)\n",
      "Requirement already satisfied: requests in /usr/local/lib/python3.7/dist-packages (from torchtext==0.10) (2.23.0)\n",
      "Requirement already satisfied: numpy in /usr/local/lib/python3.7/dist-packages (from torchtext==0.10) (1.19.5)\n",
      "Requirement already satisfied: tqdm in /usr/local/lib/python3.7/dist-packages (from torchtext==0.10) (4.62.3)\n",
      "Requirement already satisfied: typing-extensions in /usr/local/lib/python3.7/dist-packages (from torch==1.9.0->torchtext==0.10) (3.7.4.3)\n",
      "Requirement already satisfied: certifi>=2017.4.17 in /usr/local/lib/python3.7/dist-packages (from requests->torchtext==0.10) (2021.5.30)\n",
      "Requirement already satisfied: urllib3!=1.25.0,!=1.25.1,<1.26,>=1.21.1 in /usr/local/lib/python3.7/dist-packages (from requests->torchtext==0.10) (1.24.3)\n",
      "Requirement already satisfied: idna<3,>=2.5 in /usr/local/lib/python3.7/dist-packages (from requests->torchtext==0.10) (2.10)\n",
      "Requirement already satisfied: chardet<4,>=3.0.2 in /usr/local/lib/python3.7/dist-packages (from requests->torchtext==0.10) (3.0.4)\n"
     ]
    }
   ],
   "source": [
    "!pip install torch==1.9\n",
    "!pip install torchtext==0.10"
   ]
  },
  {
   "cell_type": "markdown",
   "metadata": {
    "id": "TsD8FOfy_Nj4"
   },
   "source": [
    "## Load necessary packages;"
   ]
  },
  {
   "cell_type": "code",
   "execution_count": 2,
   "metadata": {
    "colab": {
     "base_uri": "https://localhost:8080/"
    },
    "id": "Xdot5xzD-qOo",
    "outputId": "8a7afbb3-c8eb-4fd8-a9cc-1b6e78e56d0d"
   },
   "outputs": [
    {
     "data": {
      "text/plain": [
       "<torch._C.Generator at 0x7f02a11afe10>"
      ]
     },
     "execution_count": 2,
     "metadata": {},
     "output_type": "execute_result"
    }
   ],
   "source": [
    "import bert_data_processing as bdp\n",
    "import torch\n",
    "from torch import nn\n",
    "import bert\n",
    "import transformer as tr\n",
    "import itertools\n",
    "import numpy as np\n",
    "import matplotlib as mpl\n",
    "import matplotlib.pyplot as plt\n",
    "import re\n",
    "from torchtext.datasets import AG_NEWS\n",
    "mpl.style.use([\"ggplot\", \"dark_background\"])\n",
    "np.random.seed(42)\n",
    "torch.manual_seed(42)"
   ]
  },
  {
   "cell_type": "markdown",
   "metadata": {
    "id": "qTDewP-2_XXm"
   },
   "source": [
    "## Load the training part of the AG_NEWS dataset so that I pretrain BERT on it;\n",
    "* Note that the `max_len_consider` parameter is the maximum length of half a sentence, since for the Next Sentence Prediction pretraining task I basically split each sentence in two halves to mimic the sequential format;"
   ]
  },
  {
   "cell_type": "code",
   "execution_count": 3,
   "metadata": {
    "id": "O9-zxrx1_KOw"
   },
   "outputs": [],
   "source": [
    "batch_size, max_len_consider = 256, 50\n",
    "loader, vocab = bdp.get_ag_news_loader_and_vocab(batch_size, max_len_consider, directory=\"../data\", vocab_min_freq=5)"
   ]
  },
  {
   "cell_type": "markdown",
   "metadata": {
    "id": "UjVjPOkd_zm4"
   },
   "source": [
    "### Take a look at the format:\n",
    "* Indexes of tokens;\n",
    "* Segment indexes;\n",
    "* Last index of seq to consider (i.e. don't consider pads);\n",
    "* Indexes of masks (i.e. masked by <mask\\> token, the original token or randomly sampled token);\n",
    "* Masked-Language-Model weights - since we are padding only calculate loss for actual masks and not pads;\n",
    "* The Next Sentence Prediction label (second sequence follows first or not);"
   ]
  },
  {
   "cell_type": "code",
   "execution_count": 4,
   "metadata": {
    "colab": {
     "base_uri": "https://localhost:8080/"
    },
    "id": "IcTSUujj_jwn",
    "outputId": "ec7aa430-7267-44ff-ef22-8c62a354dddd"
   },
   "outputs": [
    {
     "name": "stdout",
     "output_type": "stream",
     "text": [
      "(tensor([    3,   392,   330,  1538,     2,   103,    58,     5,   810,     2,\n",
      "           27,     4,     0,   392,  1940, 10181,  3277,     8,     2,    38,\n",
      "         3914,   744,   296,     4,     1,     1,     1,     1,     1,     1,\n",
      "            1,     1,     1,     1,     1,     1,     1,     1,     1,     1,\n",
      "            1,     1,     1,     1,     1,     1,     1,     1,     1,     1]), tensor([0, 0, 0, 0, 0, 0, 0, 0, 0, 0, 0, 0, 1, 1, 1, 1, 1, 1, 1, 1, 1, 1, 1, 1,\n",
      "        0, 0, 0, 0, 0, 0, 0, 0, 0, 0, 0, 0, 0, 0, 0, 0, 0, 0, 0, 0, 0, 0, 0, 0,\n",
      "        0, 0]), tensor(24.), tensor([ 4,  9, 18,  0,  0,  0,  0,  0]), tensor([1., 1., 1., 0., 0., 0., 0., 0.]), tensor([14290,    27,     0,     0,     0,     0,     0,     0]), tensor(1))\n"
     ]
    }
   ],
   "source": [
    "print(loader.dataset[0])"
   ]
  },
  {
   "cell_type": "code",
   "execution_count": 5,
   "metadata": {
    "colab": {
     "base_uri": "https://localhost:8080/"
    },
    "id": "rOCkLL7CBD8m",
    "outputId": "fdf5cb3c-4be4-47c6-b1fc-30672752e24d"
   },
   "outputs": [
    {
     "name": "stdout",
     "output_type": "stream",
     "text": [
      "['<cls>', 'wall', 'st', 'bears', '<mask>', 'back', 'into', 'the', 'black', '<mask>', 'reuters', '<sep>', '<unk>', 'wall', 'streets', 'dwindling', 'band', 'of', '<mask>', 'are', 'seeing', 'green', 'again', '<sep>', '<pad>', '<pad>', '<pad>', '<pad>', '<pad>', '<pad>', '<pad>', '<pad>', '<pad>', '<pad>', '<pad>', '<pad>', '<pad>', '<pad>', '<pad>', '<pad>', '<pad>', '<pad>', '<pad>', '<pad>', '<pad>', '<pad>', '<pad>', '<pad>', '<pad>', '<pad>']\n"
     ]
    }
   ],
   "source": [
    "print(vocab.convert_to_token(loader.dataset[0][0].tolist()))"
   ]
  },
  {
   "cell_type": "markdown",
   "metadata": {
    "id": "yCVLbHiWBOui"
   },
   "source": [
    "### Get losses for MLM and NSP tasks;"
   ]
  },
  {
   "cell_type": "code",
   "execution_count": 6,
   "metadata": {
    "id": "GBmfs0AXBL2w"
   },
   "outputs": [],
   "source": [
    "loss_mlm = nn.CrossEntropyLoss(reduction=\"none\")\n",
    "loss_nsp = nn.CrossEntropyLoss()"
   ]
  },
  {
   "cell_type": "markdown",
   "metadata": {
    "id": "Q-JOuL-dBXnl"
   },
   "source": [
    "### Instantiate BERT model;"
   ]
  },
  {
   "cell_type": "code",
   "execution_count": 7,
   "metadata": {
    "id": "BGNZHLSVBVPu"
   },
   "outputs": [],
   "source": [
    "vocab_size, hidden_dim, ffn_hidden, num_heads = len(vocab), 128, 256, 4\n",
    "norm_dim, ffn_input, num_layers, dropout, with_bias = [128], 128, 4, 0.2, True\n",
    "\n",
    "bert_model = bert.BertModel(hidden_dim, hidden_dim, hidden_dim, hidden_dim, num_heads,\n",
    "                            norm_dim, ffn_input, ffn_hidden, num_layers, vocab_size, pos_encoding_size=1000,\n",
    "                            mlm_input=hidden_dim, mlm_hiddens=2*hidden_dim, nsp_input=hidden_dim,\n",
    "                            nsp_hidden=2*hidden_dim, dropout=dropout, with_bias=with_bias)"
   ]
  },
  {
   "cell_type": "markdown",
   "metadata": {
    "id": "L5wWUK79BwLN"
   },
   "source": [
    "### Decide on device;"
   ]
  },
  {
   "cell_type": "code",
   "execution_count": 8,
   "metadata": {
    "colab": {
     "base_uri": "https://localhost:8080/"
    },
    "id": "Uo6FUajLBrEJ",
    "outputId": "4a915045-ea78-4ed9-bd96-295008662129"
   },
   "outputs": [
    {
     "name": "stdout",
     "output_type": "stream",
     "text": [
      "I will be using cuda.\n"
     ]
    }
   ],
   "source": [
    "device = torch.device(\"cuda\" if torch.cuda.is_available() else \"cpu\")\n",
    "print(f\"I will be using {device}.\")"
   ]
  },
  {
   "cell_type": "markdown",
   "metadata": {
    "id": "LgStF8LKB7M6"
   },
   "source": [
    "### Move model to device;"
   ]
  },
  {
   "cell_type": "code",
   "execution_count": 9,
   "metadata": {
    "colab": {
     "base_uri": "https://localhost:8080/"
    },
    "id": "RvgQnt9rB4_2",
    "outputId": "2b77a45f-0027-40a6-c718-20f47a681f79"
   },
   "outputs": [
    {
     "data": {
      "text/plain": [
       "BertModel(\n",
       "  (encoder): BertEncoder(\n",
       "    (word_embeds): Embedding(26320, 128)\n",
       "    (segment_embeds): Embedding(2, 128)\n",
       "    (encoders): Sequential(\n",
       "      (encoder_block_0): EncoderBlock(\n",
       "        (attention): MHAttention(\n",
       "          (attention_pooling): LearnableDotProdAttention(\n",
       "            (dropout): Dropout(p=0.2, inplace=False)\n",
       "          )\n",
       "          (W_q): Linear(in_features=128, out_features=128, bias=True)\n",
       "          (W_k): Linear(in_features=128, out_features=128, bias=True)\n",
       "          (W_v): Linear(in_features=128, out_features=128, bias=True)\n",
       "          (W_o): Linear(in_features=128, out_features=128, bias=True)\n",
       "        )\n",
       "        (add_norm1): AddNorm(\n",
       "          (norm): LayerNorm((128,), eps=1e-05, elementwise_affine=True)\n",
       "          (dropout): Dropout(p=0.2, inplace=False)\n",
       "        )\n",
       "        (ffn): EncBlockFFN(\n",
       "          (net): Sequential(\n",
       "            (0): Linear(in_features=128, out_features=256, bias=True)\n",
       "            (1): ReLU()\n",
       "            (2): Linear(in_features=256, out_features=128, bias=True)\n",
       "          )\n",
       "        )\n",
       "        (add_norm2): AddNorm(\n",
       "          (norm): LayerNorm((128,), eps=1e-05, elementwise_affine=True)\n",
       "          (dropout): Dropout(p=0.2, inplace=False)\n",
       "        )\n",
       "      )\n",
       "      (encoder_block_1): EncoderBlock(\n",
       "        (attention): MHAttention(\n",
       "          (attention_pooling): LearnableDotProdAttention(\n",
       "            (dropout): Dropout(p=0.2, inplace=False)\n",
       "          )\n",
       "          (W_q): Linear(in_features=128, out_features=128, bias=True)\n",
       "          (W_k): Linear(in_features=128, out_features=128, bias=True)\n",
       "          (W_v): Linear(in_features=128, out_features=128, bias=True)\n",
       "          (W_o): Linear(in_features=128, out_features=128, bias=True)\n",
       "        )\n",
       "        (add_norm1): AddNorm(\n",
       "          (norm): LayerNorm((128,), eps=1e-05, elementwise_affine=True)\n",
       "          (dropout): Dropout(p=0.2, inplace=False)\n",
       "        )\n",
       "        (ffn): EncBlockFFN(\n",
       "          (net): Sequential(\n",
       "            (0): Linear(in_features=128, out_features=256, bias=True)\n",
       "            (1): ReLU()\n",
       "            (2): Linear(in_features=256, out_features=128, bias=True)\n",
       "          )\n",
       "        )\n",
       "        (add_norm2): AddNorm(\n",
       "          (norm): LayerNorm((128,), eps=1e-05, elementwise_affine=True)\n",
       "          (dropout): Dropout(p=0.2, inplace=False)\n",
       "        )\n",
       "      )\n",
       "      (encoder_block_2): EncoderBlock(\n",
       "        (attention): MHAttention(\n",
       "          (attention_pooling): LearnableDotProdAttention(\n",
       "            (dropout): Dropout(p=0.2, inplace=False)\n",
       "          )\n",
       "          (W_q): Linear(in_features=128, out_features=128, bias=True)\n",
       "          (W_k): Linear(in_features=128, out_features=128, bias=True)\n",
       "          (W_v): Linear(in_features=128, out_features=128, bias=True)\n",
       "          (W_o): Linear(in_features=128, out_features=128, bias=True)\n",
       "        )\n",
       "        (add_norm1): AddNorm(\n",
       "          (norm): LayerNorm((128,), eps=1e-05, elementwise_affine=True)\n",
       "          (dropout): Dropout(p=0.2, inplace=False)\n",
       "        )\n",
       "        (ffn): EncBlockFFN(\n",
       "          (net): Sequential(\n",
       "            (0): Linear(in_features=128, out_features=256, bias=True)\n",
       "            (1): ReLU()\n",
       "            (2): Linear(in_features=256, out_features=128, bias=True)\n",
       "          )\n",
       "        )\n",
       "        (add_norm2): AddNorm(\n",
       "          (norm): LayerNorm((128,), eps=1e-05, elementwise_affine=True)\n",
       "          (dropout): Dropout(p=0.2, inplace=False)\n",
       "        )\n",
       "      )\n",
       "      (encoder_block_3): EncoderBlock(\n",
       "        (attention): MHAttention(\n",
       "          (attention_pooling): LearnableDotProdAttention(\n",
       "            (dropout): Dropout(p=0.2, inplace=False)\n",
       "          )\n",
       "          (W_q): Linear(in_features=128, out_features=128, bias=True)\n",
       "          (W_k): Linear(in_features=128, out_features=128, bias=True)\n",
       "          (W_v): Linear(in_features=128, out_features=128, bias=True)\n",
       "          (W_o): Linear(in_features=128, out_features=128, bias=True)\n",
       "        )\n",
       "        (add_norm1): AddNorm(\n",
       "          (norm): LayerNorm((128,), eps=1e-05, elementwise_affine=True)\n",
       "          (dropout): Dropout(p=0.2, inplace=False)\n",
       "        )\n",
       "        (ffn): EncBlockFFN(\n",
       "          (net): Sequential(\n",
       "            (0): Linear(in_features=128, out_features=256, bias=True)\n",
       "            (1): ReLU()\n",
       "            (2): Linear(in_features=256, out_features=128, bias=True)\n",
       "          )\n",
       "        )\n",
       "        (add_norm2): AddNorm(\n",
       "          (norm): LayerNorm((128,), eps=1e-05, elementwise_affine=True)\n",
       "          (dropout): Dropout(p=0.2, inplace=False)\n",
       "        )\n",
       "      )\n",
       "    )\n",
       "  )\n",
       "  (mlm): MLM(\n",
       "    (net): Sequential(\n",
       "      (0): Linear(in_features=128, out_features=256, bias=True)\n",
       "      (1): ReLU()\n",
       "      (2): Linear(in_features=256, out_features=26320, bias=True)\n",
       "    )\n",
       "  )\n",
       "  (nsp): NSP(\n",
       "    (net): Sequential(\n",
       "      (0): Linear(in_features=128, out_features=256, bias=True)\n",
       "      (1): ReLU()\n",
       "      (2): Linear(in_features=256, out_features=2, bias=True)\n",
       "    )\n",
       "  )\n",
       ")"
      ]
     },
     "execution_count": 9,
     "metadata": {},
     "output_type": "execute_result"
    }
   ],
   "source": [
    "bert_model.to(device)"
   ]
  },
  {
   "cell_type": "markdown",
   "metadata": {
    "id": "LWnlwS2HCFC8"
   },
   "source": [
    "### Get optimiser for the pretraining with scheduler to decrease learning rate by half after each epoch;"
   ]
  },
  {
   "cell_type": "code",
   "execution_count": 10,
   "metadata": {
    "id": "HtCLLORSB-xy"
   },
   "outputs": [],
   "source": [
    "adam_optim = torch.optim.Adam(bert_model.parameters(), lr=1e-3)\n",
    "scheduler = torch.optim.lr_scheduler.StepLR(adam_optim, step_size=1, gamma=0.75)"
   ]
  },
  {
   "cell_type": "markdown",
   "metadata": {
    "id": "WcrptD9FCRhv"
   },
   "source": [
    "### Take a look at the output format of BERT;"
   ]
  },
  {
   "cell_type": "code",
   "execution_count": 11,
   "metadata": {
    "colab": {
     "base_uri": "https://localhost:8080/"
    },
    "id": "S-wx5Qv9CNeT",
    "outputId": "cb4f2a9a-64b1-4778-960b-3fd85d034b0e"
   },
   "outputs": [
    {
     "name": "stdout",
     "output_type": "stream",
     "text": [
      "shape of encoding: torch.Size([256, 50, 128]) --> (batch_size, seq_len, embed_size)\n",
      "shape of mlm_preds: torch.Size([256, 8, 26320]) --> (batch_size, num_masks, vocab_size)\n",
      "shape of nsp_preds: torch.Size([256, 2]) --> (batch_size, num_classes_to_predict)\n"
     ]
    }
   ],
   "source": [
    "with torch.no_grad():\n",
    "  bert_model.eval()\n",
    "  for (tokens, segments, attention_masks, masked_positions, weights_for_masks,\n",
    "        original_labels_for_masks, nsp_labels) in loader:\n",
    "      encodings, mlm_preds, nsp_preds = bert_model(tokens.to(device), segments.to(device), \n",
    "                                                    attention_masks.to(device), \n",
    "                                                    masked_positions.to(device))\n",
    "      break\n",
    "\n",
    "print(f\"shape of encoding: {encodings.shape} --> (batch_size, seq_len, embed_size)\")\n",
    "print(f\"shape of mlm_preds: {mlm_preds.shape} --> (batch_size, num_masks, vocab_size)\")\n",
    "print(f\"shape of nsp_preds: {nsp_preds.shape} --> (batch_size, num_classes_to_predict)\")"
   ]
  },
  {
   "cell_type": "markdown",
   "metadata": {
    "id": "SSH_UP1_DOw-"
   },
   "source": [
    "### Define how to combine losses from two pretrainig tasks;"
   ]
  },
  {
   "cell_type": "code",
   "execution_count": 12,
   "metadata": {
    "id": "73t_rW02DTSd"
   },
   "outputs": [],
   "source": [
    "def loss_per_batch(bert_model, loss_mlm, loss_nsp, vocab_size, tokens, segments,\n",
    "                         attention_masks, masked_positions, weights_for_masks, \n",
    "                         original_labels_for_masks, nsp_labels):\n",
    "    \n",
    "    # effectively the forward pass;\n",
    "    encodings, mlm_preds, nsp_preds = bert_model(tokens, segments,\n",
    "                                          attention_masks, masked_positions)\n",
    "    # Now get loss from MLM task;\n",
    "    # it is important that the loss reduction is none, so that I can customize it a bit\n",
    "    # by multiplying by weights so that I don't count the loss from <pad> tokens\n",
    "    # when doing the MLM model;\n",
    "    mlm_loss = loss_mlm(mlm_preds.reshape(-1, vocab_size), \n",
    "                    original_labels_for_masks.reshape(-1)) * weights_for_masks.reshape(-1)\n",
    "    \n",
    "    # now I can average the MLM loss over the weights;\n",
    "    mlm_loss = mlm_loss.sum() / (weights_for_masks.sum() + 1e-9)\n",
    "    \n",
    "    # Now get the next sentence prediction loss;\n",
    "    # here this is the default reduction for loss_nsp, i.e. averaged;\n",
    "    nsp_loss = loss_nsp(nsp_preds, nsp_labels)\n",
    "    \n",
    "    # combine the two losses;\n",
    "    sum_of_losses = mlm_loss + nsp_loss\n",
    "    return mlm_loss, nsp_loss, sum_of_losses"
   ]
  },
  {
   "cell_type": "markdown",
   "metadata": {
    "id": "l17yVDk9CiMx"
   },
   "source": [
    "### Define a training loop for one epoch;"
   ]
  },
  {
   "cell_type": "code",
   "execution_count": 13,
   "metadata": {
    "id": "RLAfj3guCewa"
   },
   "outputs": [],
   "source": [
    "def train_loop(bert_model, loss_nsp, loss_mlm, optim, loader, vocab):\n",
    "  vocab_size = torch.tensor(len(vocab), device=device)\n",
    "  bert_model.to(device)\n",
    "  bert_model.train()\n",
    "  fifth = max(1, len(loader) // 5)\n",
    "  tot_loss_per_epoch = 0.\n",
    "  tot_mlm_loss_per_epoch = 0.\n",
    "  tot_nsp_loss_per_epoch = 0.\n",
    "  size = len(loader.dataset)\n",
    "\n",
    "  for batch, (tokens, segments, attention_masks, masked_positions, weights_for_masks,\n",
    "         original_labels_for_masks, nsp_labels) in enumerate(loader, start=1):\n",
    "        # forward pass on one batch plus calculating the loss(es);\n",
    "        mlm_loss, nsp_loss, sum_of_losses = loss_per_batch(bert_model, loss_mlm, loss_nsp,\n",
    "                                                          vocab_size, \n",
    "                                                           tokens.to(device), \n",
    "                                                           segments.to(device),\n",
    "                                                          attention_masks.to(device), \n",
    "                                                           masked_positions.to(device),\n",
    "                                                          weights_for_masks.to(device),\n",
    "                                                          original_labels_for_masks.to(device), \n",
    "                                                           nsp_labels.to(device))\n",
    "        if batch % fifth == 0:\n",
    "          print(f\"mlm_loss:  {mlm_loss:.5f}\\tnsp_loss:  {nsp_loss:.5f}\\tcombined_loss:  {sum_of_losses:.5f}\\tprogress:  {batch}/{len(loader)}\")\n",
    "        tot_loss_per_epoch += sum_of_losses.item() * len(nsp_labels)\n",
    "        tot_mlm_loss_per_epoch += mlm_loss.item() * len(nsp_labels)\n",
    "        tot_nsp_loss_per_epoch += nsp_loss.item() * len(nsp_labels)\n",
    "        # now for the backward pass;\n",
    "        optim.zero_grad()\n",
    "        sum_of_losses.backward()\n",
    "        optim.step()\n",
    "  print(f\"mlm_loss_per_epoch:  {tot_mlm_loss_per_epoch/size:.5f}\\tnsp_loss_per_epoch:  {tot_nsp_loss_per_epoch/size:.5f}\\tcombined_loss_per_epoch:  {tot_loss_per_epoch/size:.5f}\")\n",
    "  return tot_mlm_loss_per_epoch/size, tot_nsp_loss_per_epoch/size, tot_loss_per_epoch/size        "
   ]
  },
  {
   "cell_type": "markdown",
   "metadata": {
    "id": "cQWwwLTlFtHO"
   },
   "source": [
    "### Start the pretraining procedure;\n",
    "* The purpose here is to show that the current configuration \"trains\" since the loss falls;\n",
    "* Obviously the choice of training for only 5 epochs is arbitrary and it is possible that different hyperparameter configuration may yield better results;"
   ]
  },
  {
   "cell_type": "code",
   "execution_count": 14,
   "metadata": {
    "id": "R5W1xl6VESSI"
   },
   "outputs": [],
   "source": [
    "best_loss_pre = None"
   ]
  },
  {
   "cell_type": "code",
   "execution_count": 15,
   "metadata": {
    "colab": {
     "base_uri": "https://localhost:8080/"
    },
    "id": "0i5KzehZFiZq",
    "outputId": "6353ad55-4af7-41f9-a21b-48c18ff8c91c"
   },
   "outputs": [
    {
     "name": "stdout",
     "output_type": "stream",
     "text": [
      "Epoch 1:\n",
      "----------------------------------------\n",
      "mlm_loss:  7.77615\tnsp_loss:  0.68801\tcombined_loss:  8.46416\tprogress:  85/429\n",
      "mlm_loss:  7.63088\tnsp_loss:  0.68875\tcombined_loss:  8.31963\tprogress:  170/429\n",
      "mlm_loss:  7.60722\tnsp_loss:  0.70110\tcombined_loss:  8.30833\tprogress:  255/429\n",
      "mlm_loss:  7.46250\tnsp_loss:  0.67030\tcombined_loss:  8.13280\tprogress:  340/429\n",
      "mlm_loss:  7.37501\tnsp_loss:  0.67108\tcombined_loss:  8.04609\tprogress:  425/429\n",
      "mlm_loss_per_epoch:  7.64519\tnsp_loss_per_epoch:  0.68582\tcombined_loss_per_epoch:  8.33101\n",
      "last_lr: 0.00100\n",
      "\n",
      "Epoch 2:\n",
      "----------------------------------------\n",
      "mlm_loss:  7.41116\tnsp_loss:  0.65799\tcombined_loss:  8.06914\tprogress:  85/429\n",
      "mlm_loss:  7.43081\tnsp_loss:  0.65916\tcombined_loss:  8.08996\tprogress:  170/429\n",
      "mlm_loss:  7.22762\tnsp_loss:  0.63185\tcombined_loss:  7.85947\tprogress:  255/429\n",
      "mlm_loss:  7.18296\tnsp_loss:  0.63866\tcombined_loss:  7.82162\tprogress:  340/429\n",
      "mlm_loss:  7.22548\tnsp_loss:  0.60775\tcombined_loss:  7.83323\tprogress:  425/429\n",
      "mlm_loss_per_epoch:  7.35345\tnsp_loss_per_epoch:  0.65318\tcombined_loss_per_epoch:  8.00663\n",
      "last_lr: 0.00075\n",
      "\n",
      "Epoch 3:\n",
      "----------------------------------------\n",
      "mlm_loss:  7.23518\tnsp_loss:  0.66889\tcombined_loss:  7.90407\tprogress:  85/429\n",
      "mlm_loss:  7.07600\tnsp_loss:  0.61830\tcombined_loss:  7.69430\tprogress:  170/429\n",
      "mlm_loss:  7.22533\tnsp_loss:  0.63190\tcombined_loss:  7.85723\tprogress:  255/429\n",
      "mlm_loss:  7.06947\tnsp_loss:  0.64424\tcombined_loss:  7.71372\tprogress:  340/429\n",
      "mlm_loss:  7.07762\tnsp_loss:  0.63439\tcombined_loss:  7.71202\tprogress:  425/429\n",
      "mlm_loss_per_epoch:  7.17152\tnsp_loss_per_epoch:  0.64219\tcombined_loss_per_epoch:  7.81371\n",
      "last_lr: 0.00056\n",
      "\n",
      "Epoch 4:\n",
      "----------------------------------------\n",
      "mlm_loss:  6.95811\tnsp_loss:  0.62474\tcombined_loss:  7.58285\tprogress:  85/429\n",
      "mlm_loss:  6.98332\tnsp_loss:  0.62385\tcombined_loss:  7.60716\tprogress:  170/429\n",
      "mlm_loss:  6.95117\tnsp_loss:  0.59512\tcombined_loss:  7.54629\tprogress:  255/429\n",
      "mlm_loss:  6.90980\tnsp_loss:  0.60061\tcombined_loss:  7.51041\tprogress:  340/429\n",
      "mlm_loss:  6.71647\tnsp_loss:  0.62669\tcombined_loss:  7.34316\tprogress:  425/429\n",
      "mlm_loss_per_epoch:  6.98302\tnsp_loss_per_epoch:  0.62844\tcombined_loss_per_epoch:  7.61146\n",
      "last_lr: 0.00042\n",
      "\n",
      "Epoch 5:\n",
      "----------------------------------------\n",
      "mlm_loss:  6.86795\tnsp_loss:  0.59518\tcombined_loss:  7.46313\tprogress:  85/429\n",
      "mlm_loss:  6.99410\tnsp_loss:  0.57090\tcombined_loss:  7.56500\tprogress:  170/429\n",
      "mlm_loss:  6.72289\tnsp_loss:  0.65002\tcombined_loss:  7.37291\tprogress:  255/429\n",
      "mlm_loss:  6.78399\tnsp_loss:  0.62681\tcombined_loss:  7.41080\tprogress:  340/429\n",
      "mlm_loss:  6.74114\tnsp_loss:  0.58006\tcombined_loss:  7.32120\tprogress:  425/429\n",
      "mlm_loss_per_epoch:  6.80572\tnsp_loss_per_epoch:  0.60913\tcombined_loss_per_epoch:  7.41485\n",
      "last_lr: 0.00032\n",
      "\n"
     ]
    }
   ],
   "source": [
    "epochs = 5\n",
    "for t in range(epochs):\n",
    "  print(f\"Epoch {t+1}:\\n----------------------------------------\")\n",
    "  mlm, nsp, combined = train_loop(bert_model, loss_nsp, loss_mlm, adam_optim, loader, vocab)\n",
    "  print(f\"last_lr: {scheduler.get_last_lr()[-1]:.5f}\\n\")\n",
    "  scheduler.step()\n",
    "  if best_loss_pre is None or combined < best_loss_pre:\n",
    "    best_loss_pre = combined\n",
    "    torch.save(bert_model.state_dict(), \"bert_pretrained.pt\")"
   ]
  },
  {
   "cell_type": "markdown",
   "metadata": {
    "id": "fNAIgTe7L5m_"
   },
   "source": [
    "## Now doing the classification problem;\n",
    "* First, load the \"best\" pretrained BERT;"
   ]
  },
  {
   "cell_type": "code",
   "execution_count": 16,
   "metadata": {
    "id": "1g9rwClWN9Oj"
   },
   "outputs": [],
   "source": [
    "vocab_size, hidden_dim, ffn_hidden, num_heads = len(vocab), 128, 256, 4\n",
    "norm_dim, ffn_input, num_layers, dropout, with_bias = [128], 128, 4, 0.2, True\n",
    "\n",
    "best_bert_pre = bert.BertModel(hidden_dim, hidden_dim, hidden_dim, hidden_dim, num_heads,\n",
    "                            norm_dim, ffn_input, ffn_hidden, num_layers, vocab_size, pos_encoding_size=1000,\n",
    "                            mlm_input=hidden_dim, mlm_hiddens=2*hidden_dim, nsp_input=hidden_dim,\n",
    "                            nsp_hidden=2*hidden_dim, dropout=dropout, with_bias=with_bias)"
   ]
  },
  {
   "cell_type": "code",
   "execution_count": 17,
   "metadata": {
    "colab": {
     "base_uri": "https://localhost:8080/"
    },
    "id": "K0eGrdsbOU1p",
    "outputId": "f0010efd-c545-4409-d625-232ad7042809"
   },
   "outputs": [
    {
     "data": {
      "text/plain": [
       "<All keys matched successfully>"
      ]
     },
     "execution_count": 17,
     "metadata": {},
     "output_type": "execute_result"
    }
   ],
   "source": [
    "best_bert_pre.load_state_dict(torch.load(\"bert_pretrained.pt\"))"
   ]
  },
  {
   "cell_type": "code",
   "execution_count": 18,
   "metadata": {
    "colab": {
     "base_uri": "https://localhost:8080/"
    },
    "id": "C5hrURmkOe71",
    "outputId": "57a91b4f-88b1-4ba6-ece8-f2b94b140f45"
   },
   "outputs": [
    {
     "data": {
      "text/plain": [
       "BertModel(\n",
       "  (encoder): BertEncoder(\n",
       "    (word_embeds): Embedding(26320, 128)\n",
       "    (segment_embeds): Embedding(2, 128)\n",
       "    (encoders): Sequential(\n",
       "      (encoder_block_0): EncoderBlock(\n",
       "        (attention): MHAttention(\n",
       "          (attention_pooling): LearnableDotProdAttention(\n",
       "            (dropout): Dropout(p=0.2, inplace=False)\n",
       "          )\n",
       "          (W_q): Linear(in_features=128, out_features=128, bias=True)\n",
       "          (W_k): Linear(in_features=128, out_features=128, bias=True)\n",
       "          (W_v): Linear(in_features=128, out_features=128, bias=True)\n",
       "          (W_o): Linear(in_features=128, out_features=128, bias=True)\n",
       "        )\n",
       "        (add_norm1): AddNorm(\n",
       "          (norm): LayerNorm((128,), eps=1e-05, elementwise_affine=True)\n",
       "          (dropout): Dropout(p=0.2, inplace=False)\n",
       "        )\n",
       "        (ffn): EncBlockFFN(\n",
       "          (net): Sequential(\n",
       "            (0): Linear(in_features=128, out_features=256, bias=True)\n",
       "            (1): ReLU()\n",
       "            (2): Linear(in_features=256, out_features=128, bias=True)\n",
       "          )\n",
       "        )\n",
       "        (add_norm2): AddNorm(\n",
       "          (norm): LayerNorm((128,), eps=1e-05, elementwise_affine=True)\n",
       "          (dropout): Dropout(p=0.2, inplace=False)\n",
       "        )\n",
       "      )\n",
       "      (encoder_block_1): EncoderBlock(\n",
       "        (attention): MHAttention(\n",
       "          (attention_pooling): LearnableDotProdAttention(\n",
       "            (dropout): Dropout(p=0.2, inplace=False)\n",
       "          )\n",
       "          (W_q): Linear(in_features=128, out_features=128, bias=True)\n",
       "          (W_k): Linear(in_features=128, out_features=128, bias=True)\n",
       "          (W_v): Linear(in_features=128, out_features=128, bias=True)\n",
       "          (W_o): Linear(in_features=128, out_features=128, bias=True)\n",
       "        )\n",
       "        (add_norm1): AddNorm(\n",
       "          (norm): LayerNorm((128,), eps=1e-05, elementwise_affine=True)\n",
       "          (dropout): Dropout(p=0.2, inplace=False)\n",
       "        )\n",
       "        (ffn): EncBlockFFN(\n",
       "          (net): Sequential(\n",
       "            (0): Linear(in_features=128, out_features=256, bias=True)\n",
       "            (1): ReLU()\n",
       "            (2): Linear(in_features=256, out_features=128, bias=True)\n",
       "          )\n",
       "        )\n",
       "        (add_norm2): AddNorm(\n",
       "          (norm): LayerNorm((128,), eps=1e-05, elementwise_affine=True)\n",
       "          (dropout): Dropout(p=0.2, inplace=False)\n",
       "        )\n",
       "      )\n",
       "      (encoder_block_2): EncoderBlock(\n",
       "        (attention): MHAttention(\n",
       "          (attention_pooling): LearnableDotProdAttention(\n",
       "            (dropout): Dropout(p=0.2, inplace=False)\n",
       "          )\n",
       "          (W_q): Linear(in_features=128, out_features=128, bias=True)\n",
       "          (W_k): Linear(in_features=128, out_features=128, bias=True)\n",
       "          (W_v): Linear(in_features=128, out_features=128, bias=True)\n",
       "          (W_o): Linear(in_features=128, out_features=128, bias=True)\n",
       "        )\n",
       "        (add_norm1): AddNorm(\n",
       "          (norm): LayerNorm((128,), eps=1e-05, elementwise_affine=True)\n",
       "          (dropout): Dropout(p=0.2, inplace=False)\n",
       "        )\n",
       "        (ffn): EncBlockFFN(\n",
       "          (net): Sequential(\n",
       "            (0): Linear(in_features=128, out_features=256, bias=True)\n",
       "            (1): ReLU()\n",
       "            (2): Linear(in_features=256, out_features=128, bias=True)\n",
       "          )\n",
       "        )\n",
       "        (add_norm2): AddNorm(\n",
       "          (norm): LayerNorm((128,), eps=1e-05, elementwise_affine=True)\n",
       "          (dropout): Dropout(p=0.2, inplace=False)\n",
       "        )\n",
       "      )\n",
       "      (encoder_block_3): EncoderBlock(\n",
       "        (attention): MHAttention(\n",
       "          (attention_pooling): LearnableDotProdAttention(\n",
       "            (dropout): Dropout(p=0.2, inplace=False)\n",
       "          )\n",
       "          (W_q): Linear(in_features=128, out_features=128, bias=True)\n",
       "          (W_k): Linear(in_features=128, out_features=128, bias=True)\n",
       "          (W_v): Linear(in_features=128, out_features=128, bias=True)\n",
       "          (W_o): Linear(in_features=128, out_features=128, bias=True)\n",
       "        )\n",
       "        (add_norm1): AddNorm(\n",
       "          (norm): LayerNorm((128,), eps=1e-05, elementwise_affine=True)\n",
       "          (dropout): Dropout(p=0.2, inplace=False)\n",
       "        )\n",
       "        (ffn): EncBlockFFN(\n",
       "          (net): Sequential(\n",
       "            (0): Linear(in_features=128, out_features=256, bias=True)\n",
       "            (1): ReLU()\n",
       "            (2): Linear(in_features=256, out_features=128, bias=True)\n",
       "          )\n",
       "        )\n",
       "        (add_norm2): AddNorm(\n",
       "          (norm): LayerNorm((128,), eps=1e-05, elementwise_affine=True)\n",
       "          (dropout): Dropout(p=0.2, inplace=False)\n",
       "        )\n",
       "      )\n",
       "    )\n",
       "  )\n",
       "  (mlm): MLM(\n",
       "    (net): Sequential(\n",
       "      (0): Linear(in_features=128, out_features=256, bias=True)\n",
       "      (1): ReLU()\n",
       "      (2): Linear(in_features=256, out_features=26320, bias=True)\n",
       "    )\n",
       "  )\n",
       "  (nsp): NSP(\n",
       "    (net): Sequential(\n",
       "      (0): Linear(in_features=128, out_features=256, bias=True)\n",
       "      (1): ReLU()\n",
       "      (2): Linear(in_features=256, out_features=2, bias=True)\n",
       "    )\n",
       "  )\n",
       ")"
      ]
     },
     "execution_count": 18,
     "metadata": {},
     "output_type": "execute_result"
    }
   ],
   "source": [
    "best_bert_pre.to(device)"
   ]
  },
  {
   "cell_type": "markdown",
   "metadata": {
    "id": "iysZ5u3HMA8J"
   },
   "source": [
    "### Define classification head;"
   ]
  },
  {
   "cell_type": "code",
   "execution_count": 19,
   "metadata": {
    "id": "8cnthj6XHLD4"
   },
   "outputs": [],
   "source": [
    "class ClassificationHead(nn.Module):\n",
    "  def __init__(self, input_dim, hidden_dim, output_dim):\n",
    "    super(ClassificationHead, self).__init__()\n",
    "    self.linear1 = nn.Linear(input_dim, hidden_dim)\n",
    "    self.ln1 = nn.LayerNorm([hidden_dim])\n",
    "    self.relu = nn.ReLU()\n",
    "    self.linear2 = nn.Linear(hidden_dim, output_dim)\n",
    "  \n",
    "  def forward(self, cls_token):\n",
    "    out = self.ln1(self.linear1(cls_token))\n",
    "    return self.linear2(self.relu(out))"
   ]
  },
  {
   "cell_type": "markdown",
   "metadata": {
    "id": "LLbW7LyYOs3B"
   },
   "source": [
    "### Prepare data for classification task for the AG_NEWS dataset;"
   ]
  },
  {
   "cell_type": "code",
   "execution_count": 20,
   "metadata": {
    "id": "nuOG6NyHN9h2"
   },
   "outputs": [],
   "source": [
    "train_iter, test_iter = AG_NEWS(\"../data\", split=(\"train\", \"test\"))"
   ]
  },
  {
   "cell_type": "code",
   "execution_count": 21,
   "metadata": {
    "id": "h29WZCZLOyfd"
   },
   "outputs": [],
   "source": [
    "def clean_text(text):\n",
    "    return re.sub(\"[^A-Za-z\\s]+\", '', re.sub(\"\\\\\\\\\", ' ', text).strip()).lower()"
   ]
  },
  {
   "cell_type": "code",
   "execution_count": 22,
   "metadata": {
    "id": "kPKUTJqYPIfU"
   },
   "outputs": [],
   "source": [
    "# labels oddly start from 1 to 4, so subtract one to make them start from 0 to 3;\n",
    "tuple_list_train = [(clean_text(text), num_label-1) \n",
    "                    for num_label, text in train_iter]\n",
    "tuple_list_test = [(clean_text(text), num_label-1) \n",
    "                    for num_label, text in test_iter]"
   ]
  },
  {
   "cell_type": "markdown",
   "metadata": {
    "id": "jNzvXk7X6Ac3"
   },
   "source": [
    "### Check out the distribution of sequence lengths in train set and test set, to pick a padding length;"
   ]
  },
  {
   "cell_type": "code",
   "execution_count": 23,
   "metadata": {
    "id": "bE9Ngp9APtDv"
   },
   "outputs": [],
   "source": [
    "train_lens = [len(text.split()) for text, _ in tuple_list_train]\n",
    "test_lens = [len(text.split()) for text, _ in tuple_list_test]"
   ]
  },
  {
   "cell_type": "code",
   "execution_count": 24,
   "metadata": {
    "colab": {
     "base_uri": "https://localhost:8080/",
     "height": 517
    },
    "id": "8UPBscCBQbEh",
    "outputId": "bbe76754-e685-4f52-ea0e-557c8b2b074b"
   },
   "outputs": [
    {
     "data": {
      "image/png": "[encoded data removed]",
      "text/plain": [
       "<Figure size 576x576 with 1 Axes>"
      ]
     },
     "metadata": {},
     "output_type": "display_data"
    }
   ],
   "source": [
    "fig, ax = plt.subplots(figsize=(8, 8))\n",
    "ax.hist(np.array([train_lens, test_lens], dtype=\"object\"), color=[\"cyan\", \"magenta\"], label=[\"train\", \"test\"])\n",
    "ax.legend()\n",
    "ax.set_title(\"Distribution of lengths of sequences for train and test set\")\n",
    "ax.set_xlabel(\"length of sequence\")\n",
    "ax.set_ylabel(\"count of sequences\")\n",
    "plt.show()"
   ]
  },
  {
   "cell_type": "markdown",
   "metadata": {
    "id": "HWDWbeVWULZ7"
   },
   "source": [
    "### Seems len of 75 is ok for padding;"
   ]
  },
  {
   "cell_type": "code",
   "execution_count": 25,
   "metadata": {
    "id": "6ivwAopKXHrU"
   },
   "outputs": [],
   "source": [
    "def get_tensors_from_strings(tuple_list, vocab, pad_len):\n",
    "  padded_text = []\n",
    "  all_segments = []\n",
    "  all_attention_masks = []\n",
    "  all_labels = []\n",
    "\n",
    "  for text, label in tuple_list:\n",
    "    tokenised = text.split()\n",
    "    # since we will add <cls> and <sep> per sequence;\n",
    "    if len(tokenised) + 2 <= pad_len and len(tokenised) > 0:\n",
    "      tokenised, segments = bert.get_tokens_and_segments(tokenised)\n",
    "      padded_text.append(\n",
    "          torch.tensor(vocab[tokenised] + [0] * (pad_len - len(tokenised)), dtype=torch.long))\n",
    "      all_segments.append(\n",
    "          torch.tensor(segments + [0] * (pad_len - len(tokenised)), dtype=torch.long))\n",
    "      all_attention_masks.append(torch.tensor(len(tokenised), dtype=torch.long))\n",
    "      all_labels.append(torch.tensor(label, dtype=torch.long))\n",
    "\n",
    "  return (padded_text, all_segments, \n",
    "          all_attention_masks, all_labels)"
   ]
  },
  {
   "cell_type": "markdown",
   "metadata": {
    "id": "qil2rSB17hP9"
   },
   "source": [
    "### Get Dataset objects;"
   ]
  },
  {
   "cell_type": "code",
   "execution_count": 26,
   "metadata": {
    "id": "Jy9v46FoWY5A"
   },
   "outputs": [],
   "source": [
    "class ClassificationDataset(torch.utils.data.Dataset):\n",
    "  def __init__(self, tuple_list, vocab, pad_len, **kwargs):\n",
    "    super(ClassificationDataset, self).__init__(**kwargs)\n",
    "    (self.padded_text, self.all_segments, \n",
    "     self.all_attention_masks, self.all_labels) = get_tensors_from_strings(\n",
    "         tuple_list, vocab, pad_len)\n",
    "  \n",
    "  def __len__(self):\n",
    "    return len(self.all_labels)\n",
    "  \n",
    "  def __getitem__(self, idx):\n",
    "    return (self.padded_text[idx], self.all_segments[idx],\n",
    "            self.all_attention_masks[idx], self.all_labels[idx])"
   ]
  },
  {
   "cell_type": "code",
   "execution_count": 27,
   "metadata": {
    "id": "eDQj30bMcFj8"
   },
   "outputs": [],
   "source": [
    "train_dataset = ClassificationDataset(tuple_list_train, vocab, pad_len=75)\n",
    "test_dataset = ClassificationDataset(tuple_list_test, vocab, pad_len=75)"
   ]
  },
  {
   "cell_type": "code",
   "execution_count": 28,
   "metadata": {
    "colab": {
     "base_uri": "https://localhost:8080/"
    },
    "id": "wyFK7wc0d9-I",
    "outputId": "9f23ed8e-6294-4b4e-97b6-050ce511240c"
   },
   "outputs": [
    {
     "name": "stdout",
     "output_type": "stream",
     "text": [
      "length of training dataset: 119192\n",
      "\n",
      "length of testing dataset: 7553\n",
      "\n"
     ]
    }
   ],
   "source": [
    "print(f\"length of training dataset: {len(train_dataset)}\\n\")\n",
    "print(f\"length of testing dataset: {len(test_dataset)}\\n\")"
   ]
  },
  {
   "cell_type": "markdown",
   "metadata": {
    "id": "orYzbdh17lLc"
   },
   "source": [
    "### Wrap DataLoader objects;"
   ]
  },
  {
   "cell_type": "code",
   "execution_count": 29,
   "metadata": {
    "id": "pAKOzPyed2Rs"
   },
   "outputs": [],
   "source": [
    "train_loader = torch.utils.data.DataLoader(train_dataset, batch_size=batch_size, shuffle=True)\n",
    "test_loader = torch.utils.data.DataLoader(test_dataset, batch_size=batch_size, shuffle=False)"
   ]
  },
  {
   "cell_type": "markdown",
   "metadata": {
    "id": "aZ2RLrKp7pYi"
   },
   "source": [
    "### Proceed with classification_loss;"
   ]
  },
  {
   "cell_type": "code",
   "execution_count": 30,
   "metadata": {
    "id": "moTNN1QmePVs"
   },
   "outputs": [],
   "source": [
    "classification_loss = nn.CrossEntropyLoss()"
   ]
  },
  {
   "cell_type": "markdown",
   "metadata": {
    "id": "TuMEXV7q7ulB"
   },
   "source": [
    "### Instantiate classification head object;"
   ]
  },
  {
   "cell_type": "code",
   "execution_count": 31,
   "metadata": {
    "colab": {
     "base_uri": "https://localhost:8080/"
    },
    "id": "HN2d19q_71VK",
    "outputId": "2dffaea0-4249-4d0c-95a1-34125bdfed82"
   },
   "outputs": [
    {
     "data": {
      "text/plain": [
       "ClassificationHead(\n",
       "  (linear1): Linear(in_features=128, out_features=128, bias=True)\n",
       "  (ln1): LayerNorm((128,), eps=1e-05, elementwise_affine=True)\n",
       "  (relu): ReLU()\n",
       "  (linear2): Linear(in_features=128, out_features=4, bias=True)\n",
       ")"
      ]
     },
     "execution_count": 31,
     "metadata": {},
     "output_type": "execute_result"
    }
   ],
   "source": [
    "# there are only 4 classes;\n",
    "head_input_dim, head_hidden_dim, head_output_dim, dropout = hidden_dim, hidden_dim, 4, 0.4\n",
    "classification_head = ClassificationHead(head_input_dim, head_hidden_dim, head_output_dim)\n",
    "classification_head.to(device)"
   ]
  },
  {
   "cell_type": "markdown",
   "metadata": {
    "id": "TV5mT9VT8rm6"
   },
   "source": [
    "### Now get the optimiser that is going to optimise the parameters of the transformer and the classification head;"
   ]
  },
  {
   "cell_type": "code",
   "execution_count": 32,
   "metadata": {
    "id": "QQo89H0d80tH"
   },
   "outputs": [],
   "source": [
    "combined_adam = torch.optim.Adam(itertools.chain(best_bert_pre.parameters(), classification_head.parameters()),\n",
    "                                 lr=1e-3)\n",
    "combined_scheduler = torch.optim.lr_scheduler.StepLR(combined_adam, step_size=1, gamma=0.8)"
   ]
  },
  {
   "cell_type": "markdown",
   "metadata": {
    "id": "Vjjg2VUZ9sTj"
   },
   "source": [
    "### Define training loop and test loop for the text classification task (for AG_NEWS);"
   ]
  },
  {
   "cell_type": "code",
   "execution_count": 33,
   "metadata": {
    "id": "8yMubBgc9xyA"
   },
   "outputs": [],
   "source": [
    "def combined_train_loop(bert_model, classification_head, loss_fn, optim, train_loader):\n",
    "  tot_train_loss, fifth = 0., max(1, len(train_loader) // 5)\n",
    "  size = len(train_loader.dataset)\n",
    "  bert_model.train()\n",
    "  classification_head.train()\n",
    "  for batch, (padded_text, segments, attention_masks, labels) in enumerate(train_loader, start=1):\n",
    "    encodings, _, _ = bert_model(padded_text.to(device), segments.to(device), \n",
    "                                 attention_masks.to(device))\n",
    "    # classify from <cls> tokens;\n",
    "    preds = classification_head(encodings[:, 0, :])\n",
    "    loss = loss_fn(preds, labels.to(device))\n",
    "    if batch % fifth == 0:\n",
    "      print(f\"train_loss: {loss.item():.5f}\\tprogress: {batch}/{len(train_loader)}\")\n",
    "    tot_train_loss += loss.item() * len(labels)\n",
    "\n",
    "    # backward pass;\n",
    "    optim.zero_grad()\n",
    "    loss.backward()\n",
    "    optim.step()\n",
    "  print(f\"avg_train_loss: {tot_train_loss/size:.5f}\")\n",
    "  return tot_train_loss/size"
   ]
  },
  {
   "cell_type": "code",
   "execution_count": 34,
   "metadata": {
    "id": "s4o2tR5m_d5u"
   },
   "outputs": [],
   "source": [
    "def combined_test_loop(bert_model, classification_head, loss_fn, test_loader):\n",
    "  correct, size = 0., len(test_loader.dataset)\n",
    "  tot_test_loss = 0.\n",
    "  bert_model.eval()\n",
    "  classification_head.eval()\n",
    "\n",
    "  with torch.no_grad():\n",
    "    for padded_text, segments, attention_masks, labels in test_loader:\n",
    "      encodings, _, _ = bert_model(padded_text.to(device), segments.to(device), \n",
    "                                 attention_masks.to(device))\n",
    "      # classify from <cls> tokens;\n",
    "      preds = classification_head(encodings[:, 0, :])\n",
    "      loss = loss_fn(preds, labels.to(device))\n",
    "      tot_test_loss += loss.item() * len(labels)\n",
    "      correct += (preds.argmax(1) == labels.to(device)).sum().item()\n",
    "    print(f\"avg_test_loss: {tot_test_loss/size:.5f}\\ttest_accuracy: {correct/size:.5f}\")\n",
    "    return tot_test_loss/size, correct/size"
   ]
  },
  {
   "cell_type": "markdown",
   "metadata": {
    "id": "AGY57nI3Ai1g"
   },
   "source": [
    "### Train and evaluate;"
   ]
  },
  {
   "cell_type": "code",
   "execution_count": 35,
   "metadata": {
    "id": "1SRV6BfjBUs6"
   },
   "outputs": [],
   "source": [
    "best_test_loss = None"
   ]
  },
  {
   "cell_type": "code",
   "execution_count": 36,
   "metadata": {
    "colab": {
     "base_uri": "https://localhost:8080/"
    },
    "id": "tEQdrhXqAwmg",
    "outputId": "cc2119ea-f7dd-423b-c4e5-ed65256938fa"
   },
   "outputs": [
    {
     "name": "stdout",
     "output_type": "stream",
     "text": [
      "Epoch 1:\n",
      "-----------------------------------\n",
      "train_loss: 0.65715\tprogress: 93/466\n",
      "train_loss: 0.53230\tprogress: 186/466\n",
      "train_loss: 0.50557\tprogress: 279/466\n",
      "train_loss: 0.45116\tprogress: 372/466\n",
      "train_loss: 0.47890\tprogress: 465/466\n",
      "avg_train_loss: 0.59113\n",
      "avg_test_loss: 0.43842\ttest_accuracy: 0.84258\n",
      "last_lr: 0.00100\n",
      "\n",
      "Epoch 2:\n",
      "-----------------------------------\n",
      "train_loss: 0.33530\tprogress: 93/466\n",
      "train_loss: 0.37243\tprogress: 186/466\n",
      "train_loss: 0.34626\tprogress: 279/466\n",
      "train_loss: 0.41908\tprogress: 372/466\n",
      "train_loss: 0.31255\tprogress: 465/466\n",
      "avg_train_loss: 0.40237\n",
      "avg_test_loss: 0.37242\ttest_accuracy: 0.87065\n",
      "last_lr: 0.00080\n",
      "\n",
      "Epoch 3:\n",
      "-----------------------------------\n",
      "train_loss: 0.23050\tprogress: 93/466\n",
      "train_loss: 0.27916\tprogress: 186/466\n",
      "train_loss: 0.28983\tprogress: 279/466\n",
      "train_loss: 0.36546\tprogress: 372/466\n",
      "train_loss: 0.24965\tprogress: 465/466\n",
      "avg_train_loss: 0.33241\n",
      "avg_test_loss: 0.32361\ttest_accuracy: 0.88839\n",
      "last_lr: 0.00064\n",
      "\n",
      "Epoch 4:\n",
      "-----------------------------------\n",
      "train_loss: 0.32795\tprogress: 93/466\n",
      "train_loss: 0.27278\tprogress: 186/466\n",
      "train_loss: 0.33349\tprogress: 279/466\n",
      "train_loss: 0.25433\tprogress: 372/466\n",
      "train_loss: 0.28136\tprogress: 465/466\n",
      "avg_train_loss: 0.28875\n",
      "avg_test_loss: 0.32060\ttest_accuracy: 0.89183\n",
      "last_lr: 0.00051\n",
      "\n",
      "Epoch 5:\n",
      "-----------------------------------\n",
      "train_loss: 0.23452\tprogress: 93/466\n",
      "train_loss: 0.23567\tprogress: 186/466\n",
      "train_loss: 0.30177\tprogress: 279/466\n",
      "train_loss: 0.24942\tprogress: 372/466\n",
      "train_loss: 0.23486\tprogress: 465/466\n",
      "avg_train_loss: 0.25899\n",
      "avg_test_loss: 0.29436\ttest_accuracy: 0.90097\n",
      "last_lr: 0.00041\n",
      "\n",
      "Epoch 6:\n",
      "-----------------------------------\n",
      "train_loss: 0.24952\tprogress: 93/466\n",
      "train_loss: 0.27947\tprogress: 186/466\n",
      "train_loss: 0.19566\tprogress: 279/466\n",
      "train_loss: 0.16630\tprogress: 372/466\n",
      "train_loss: 0.19136\tprogress: 465/466\n",
      "avg_train_loss: 0.23609\n",
      "avg_test_loss: 0.28794\ttest_accuracy: 0.90229\n",
      "last_lr: 0.00033\n",
      "\n",
      "Epoch 7:\n",
      "-----------------------------------\n",
      "train_loss: 0.23989\tprogress: 93/466\n",
      "train_loss: 0.23818\tprogress: 186/466\n",
      "train_loss: 0.18487\tprogress: 279/466\n",
      "train_loss: 0.22174\tprogress: 372/466\n",
      "train_loss: 0.23924\tprogress: 465/466\n",
      "avg_train_loss: 0.21613\n",
      "avg_test_loss: 0.29270\ttest_accuracy: 0.90335\n",
      "last_lr: 0.00026\n",
      "\n",
      "Epoch 8:\n",
      "-----------------------------------\n",
      "train_loss: 0.24633\tprogress: 93/466\n",
      "train_loss: 0.13350\tprogress: 186/466\n",
      "train_loss: 0.24557\tprogress: 279/466\n",
      "train_loss: 0.22211\tprogress: 372/466\n",
      "train_loss: 0.17228\tprogress: 465/466\n",
      "avg_train_loss: 0.19742\n",
      "avg_test_loss: 0.28549\ttest_accuracy: 0.90520\n",
      "last_lr: 0.00021\n",
      "\n"
     ]
    }
   ],
   "source": [
    "epochs = 8\n",
    "for t in range(epochs):\n",
    "  print(f\"Epoch {t+1}:\\n-----------------------------------\")\n",
    "  train_loss = combined_train_loop(best_bert_pre, classification_head, \n",
    "                                   classification_loss, combined_adam, train_loader)\n",
    "  test_loss, test_accuracy = combined_test_loop(best_bert_pre, classification_head,\n",
    "                                                classification_loss, test_loader)\n",
    "  print(f\"last_lr: {combined_scheduler.get_last_lr()[-1]:.5f}\\n\")\n",
    "  combined_scheduler.step()\n",
    "  if best_test_loss is None or test_loss < best_test_loss:\n",
    "    torch.save(best_bert_pre.state_dict(), \"best_bert_classification.pt\")\n",
    "    torch.save(classification_head.state_dict(), \"best_classifier_head.pt\")"
   ]
  },
  {
   "cell_type": "markdown",
   "metadata": {
    "id": "kB368YPcoeAn"
   },
   "source": [
    "### Summary:\n",
    "* So this ended up being a bit of a proof of concept, that this *from-scratch* model works. I reached **90%** accuracy on a balanced test_set with relatively low computational demands.\n",
    "* However, more importantly for myself was that my weird idea of splitting each sentence in halves to \"fool\" **BERT** to treat the halves as sentences for the Next Sentence Prediction pretraining task seems to have yielded good results.\n",
    "* This was an idea that intuitively made sense to me, but now there are also some empirical arguments in favour of it."
   ]
  }
 ],
 "metadata": {
  "accelerator": "GPU",
  "colab": {
   "collapsed_sections": [],
   "name": "Untitled0.ipynb",
   "provenance": []
  },
  "kernelspec": {
   "display_name": "Python 3",
   "language": "python",
   "name": "python3"
  },
  "language_info": {
   "codemirror_mode": {
    "name": "ipython",
    "version": 3
   },
   "file_extension": ".py",
   "mimetype": "text/x-python",
   "name": "python",
   "nbconvert_exporter": "python",
   "pygments_lexer": "ipython3",
   "version": "3.8.3"
  }
 },
 "nbformat": 4,
 "nbformat_minor": 1
}
